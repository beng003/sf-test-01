{
 "cells": [
  {
   "metadata": {},
   "cell_type": "markdown",
   "source": [
    "# 单机部署\n",
    "我们在此使用单机部署的方式做一个样例展示。 通过调用sf.init()我们实例化了一个ray集群，有5个节点，也就对应了5个物理设备。"
   ],
   "id": "469d6d79e53ea47e"
  },
  {
   "metadata": {
    "ExecuteTime": {
     "end_time": "2024-05-18T09:05:08.465687Z",
     "start_time": "2024-05-18T09:04:59.810589Z"
    }
   },
   "cell_type": "code",
   "source": [
    "import secretflow as sf\n",
    "\n",
    "# Check the version of your SecretFlow\n",
    "print('The version of SecretFlow: {}'.format(sf.__version__))\n",
    "\n",
    "sf.shutdown()\n",
    "# Standalone Mode\n",
    "sf.init(['alice', 'bob', 'carol', 'davy', 'eric'], address='local')"
   ],
   "id": "initial_id",
   "outputs": [
    {
     "name": "stdout",
     "output_type": "stream",
     "text": [
      "The version of SecretFlow: 1.4.0b0\n"
     ]
    },
    {
     "name": "stderr",
     "output_type": "stream",
     "text": [
      "2024-05-18 09:05:06,851\tINFO worker.py:1612 -- Started a local Ray instance. View the dashboard at \u001B[1m\u001B[32mhttp://127.0.0.1:8265 \u001B[39m\u001B[22m\n"
     ]
    }
   ],
   "execution_count": 36
  },
  {
   "metadata": {},
   "cell_type": "markdown",
   "source": [
    "# 定义明文计算设备PYU\n",
    "我们在启动了上述5个节点之后，明确隐语中的逻辑设备。这里我们将alice、bob、carol三方作为数据的提供方，可以本地执行明文计算，也就是 PYU (PYthon runtime Unit) 设备。"
   ],
   "id": "4a3bf5a2bfba73d"
  },
  {
   "metadata": {
    "ExecuteTime": {
     "end_time": "2024-05-18T09:05:11.487833Z",
     "start_time": "2024-05-18T09:05:11.471236Z"
    }
   },
   "cell_type": "code",
   "source": [
    "alice = sf.PYU('alice')\n",
    "bob = sf.PYU('bob')\n",
    "carol = sf.PYU('carol')\n",
    "\n",
    "print(alice)"
   ],
   "id": "ebb55fe6e7577143",
   "outputs": [
    {
     "name": "stdout",
     "output_type": "stream",
     "text": [
      "alice\n"
     ]
    }
   ],
   "execution_count": 37
  },
  {
   "metadata": {},
   "cell_type": "markdown",
   "source": [
    "# 定义密文计算设备SPU (3PC)\n",
    "进一步，我们以SPU (Secure Processing Unit) 为例，选择3个物理节点组成基于MPC（下例为三方的ABY3协议）的隐私计算设备。"
   ],
   "id": "705901319f2266f0"
  },
  {
   "metadata": {
    "ExecuteTime": {
     "end_time": "2024-05-18T09:05:25.413155Z",
     "start_time": "2024-05-18T09:05:24.990235Z"
    }
   },
   "cell_type": "code",
   "source": [
    "import spu\n",
    "from secretflow.utils.testing import unused_tcp_port\n",
    "\n",
    "aby3_cluster_def = {\n",
    "    'nodes': [\n",
    "        {\n",
    "            'party': 'alice',\n",
    "            'address': f'127.0.0.1:{unused_tcp_port()}',\n",
    "        },\n",
    "        {\n",
    "            'party': 'bob', \n",
    "            'id': 'local:1', \n",
    "            'address': f'127.0.0.1:{unused_tcp_port()}'},\n",
    "        {\n",
    "            'party': 'carol',\n",
    "            'address': f'127.0.0.1:{unused_tcp_port()}',\n",
    "        },\n",
    "    ],\n",
    "    'runtime_config': {\n",
    "        'protocol': spu.spu_pb2.ABY3,\n",
    "        'field': spu.spu_pb2.FM64,\n",
    "    },\n",
    "}\n",
    "\n",
    "my_spu = sf.SPU(aby3_cluster_def)"
   ],
   "id": "c385998eecf12021",
   "outputs": [],
   "execution_count": 39
  },
  {
   "metadata": {},
   "cell_type": "markdown",
   "source": [
    "# 数据加载\n",
    "## Load Data (Mock)\n",
    "在定义好隐语中的逻辑设备概念之后，我们演示一下如何进行数据的读入。这里使用一个mock的data load方法get_data_mock()做一个演示。"
   ],
   "id": "23b2e9f6e0fa76d1"
  },
  {
   "metadata": {
    "ExecuteTime": {
     "end_time": "2024-05-18T09:05:28.321993Z",
     "start_time": "2024-05-18T09:05:28.310176Z"
    }
   },
   "cell_type": "code",
   "source": [
    "def get_data_mock():\n",
    "    return 2\n",
    "\n",
    "\n",
    "x_plaintext = get_data_mock()\n",
    "print(f\"x_plaintext: {x_plaintext}\")"
   ],
   "id": "60b647b065039ad",
   "outputs": [
    {
     "name": "stdout",
     "output_type": "stream",
     "text": [
      "x_plaintext: 2\n"
     ]
    }
   ],
   "execution_count": 40
  },
  {
   "metadata": {},
   "cell_type": "markdown",
   "source": "##  指定PYU设备读取数据",
   "id": "3af7a727991db2d2"
  },
  {
   "metadata": {
    "ExecuteTime": {
     "end_time": "2024-05-18T09:05:36.017270Z",
     "start_time": "2024-05-18T09:05:34.163978Z"
    }
   },
   "cell_type": "code",
   "source": [
    "x_alice_pyu = alice(get_data_mock)()\n",
    "\n",
    "print(f\"Plaintext Python Object: {x_plaintext}, PYU object: {x_alice_pyu}\")\n",
    "print(f\"Reveal PYU object: {sf.reveal(x_alice_pyu)}\")"
   ],
   "id": "6ff89578df1f0d95",
   "outputs": [
    {
     "name": "stdout",
     "output_type": "stream",
     "text": [
      "Plaintext Python Object: 2, PYU object: <secretflow.device.device.pyu.PYUObject object at 0x7fb790467f40>\n",
      "Reveal PYU object: 2\n"
     ]
    }
   ],
   "execution_count": 41
  },
  {
   "metadata": {},
   "cell_type": "markdown",
   "source": "## PYU->SPU 数据转换",
   "id": "cc32860dda47e28e"
  },
  {
   "metadata": {
    "ExecuteTime": {
     "end_time": "2024-05-18T09:05:53.428006Z",
     "start_time": "2024-05-18T09:05:53.373907Z"
    }
   },
   "cell_type": "code",
   "source": [
    "x_alice_spu = x_alice_pyu.to(my_spu)\n",
    "print(f\"SPU object: {x_alice_spu}\")\n",
    "\n",
    "print(f\"Reveal SPU object: {sf.reveal(x_alice_spu)}\")"
   ],
   "id": "28b8c6cd60037fc1",
   "outputs": [
    {
     "name": "stdout",
     "output_type": "stream",
     "text": [
      "SPU object: <secretflow.device.device.spu.SPUObject object at 0x7fb792379f40>\n",
      "Reveal SPU object: 2\n"
     ]
    }
   ],
   "execution_count": 44
  },
  {
   "metadata": {},
   "cell_type": "markdown",
   "source": [
    "# Load Data (Distributed)\n",
    "我们下面考虑对一个实际应用场景的数据进行读取，也就是全集数据垂直分布在不同的参与方中。 > 出于演示的目的，我们这里将中心化的明文数据进行垂直分割的拆分，首先观察下此数据集的特征。\n",
    "\n",
    "## 读入明文全集数据"
   ],
   "id": "21f61abf39bf55e9"
  },
  {
   "metadata": {
    "ExecuteTime": {
     "end_time": "2024-05-18T09:06:07.670440Z",
     "start_time": "2024-05-18T09:06:07.647637Z"
    }
   },
   "cell_type": "code",
   "source": [
    "import os\n",
    "\n",
    "\"\"\"\n",
    "Create dir to save dataset files\n",
    "This will create a directory `data` to store the dataset file\n",
    "\"\"\"\n",
    "if not os.path.exists('data'):\n",
    "    os.mkdir('data')\n",
    "\n",
    "\"\"\"\n",
    "The original data is from Kaggle: https://www.kaggle.com/datasets/shivamb/vehicle-claim-fraud-detection.\n",
    "We promise we only use the data for demo only.\n",
    "\"\"\"\n",
    "path = \"https://secretflow-data.oss-accelerate.aliyuncs.com/datasets/vehicle_nsurance_claim/fraud_oracle.csv\"\n",
    "if not os.path.exists('data/fraud_oracle.csv'):\n",
    "    res = os.system('cd data && wget {}'.format(path))\n",
    "    if res != 0:\n",
    "        raise Exception('File: {} download fails!'.format(path))\n",
    "else:\n",
    "    print(f'File already downloaded.')"
   ],
   "id": "5e1bc91f8d35e67f",
   "outputs": [
    {
     "name": "stdout",
     "output_type": "stream",
     "text": [
      "File already downloaded.\n"
     ]
    }
   ],
   "execution_count": 45
  },
  {
   "metadata": {
    "ExecuteTime": {
     "end_time": "2024-05-18T09:07:39.487826Z",
     "start_time": "2024-05-18T09:07:39.287225Z"
    }
   },
   "cell_type": "code",
   "source": [
    "from sklearn.model_selection import train_test_split\n",
    "import pandas as pd\n",
    "\n",
    "\"\"\"\n",
    "This should point to the data downloaded from Kaggle.\n",
    "By default, the .csv file shall be in the data directory\n",
    "\"\"\"\n",
    "full_data_path = 'data/fraud_oracle.csv'\n",
    "df = pd.read_csv(full_data_path)\n",
    "df.head()"
   ],
   "id": "373512ee63756804",
   "outputs": [
    {
     "data": {
      "text/plain": [
       "  Month  WeekOfMonth  DayOfWeek    Make AccidentArea DayOfWeekClaimed  \\\n",
       "0   Dec            5  Wednesday   Honda        Urban          Tuesday   \n",
       "1   Jan            3  Wednesday   Honda        Urban           Monday   \n",
       "2   Oct            5     Friday   Honda        Urban         Thursday   \n",
       "3   Jun            2   Saturday  Toyota        Rural           Friday   \n",
       "4   Jan            5     Monday   Honda        Urban          Tuesday   \n",
       "\n",
       "  MonthClaimed  WeekOfMonthClaimed     Sex MaritalStatus  ...  AgeOfVehicle  \\\n",
       "0          Jan                   1  Female        Single  ...       3 years   \n",
       "1          Jan                   4    Male        Single  ...       6 years   \n",
       "2          Nov                   2    Male       Married  ...       7 years   \n",
       "3          Jul                   1    Male       Married  ...   more than 7   \n",
       "4          Feb                   2  Female        Single  ...       5 years   \n",
       "\n",
       "  AgeOfPolicyHolder PoliceReportFiled WitnessPresent AgentType  \\\n",
       "0          26 to 30                No             No  External   \n",
       "1          31 to 35               Yes             No  External   \n",
       "2          41 to 50                No             No  External   \n",
       "3          51 to 65               Yes             No  External   \n",
       "4          31 to 35                No             No  External   \n",
       "\n",
       "   NumberOfSuppliments  AddressChange_Claim  NumberOfCars  Year  BasePolicy  \n",
       "0                 none               1 year        3 to 4  1994   Liability  \n",
       "1                 none            no change     1 vehicle  1994   Collision  \n",
       "2                 none            no change     1 vehicle  1994   Collision  \n",
       "3          more than 5            no change     1 vehicle  1994   Liability  \n",
       "4                 none            no change     1 vehicle  1994   Collision  \n",
       "\n",
       "[5 rows x 33 columns]"
      ],
      "text/html": [
       "<div>\n",
       "<style scoped>\n",
       "    .dataframe tbody tr th:only-of-type {\n",
       "        vertical-align: middle;\n",
       "    }\n",
       "\n",
       "    .dataframe tbody tr th {\n",
       "        vertical-align: top;\n",
       "    }\n",
       "\n",
       "    .dataframe thead th {\n",
       "        text-align: right;\n",
       "    }\n",
       "</style>\n",
       "<table border=\"1\" class=\"dataframe\">\n",
       "  <thead>\n",
       "    <tr style=\"text-align: right;\">\n",
       "      <th></th>\n",
       "      <th>Month</th>\n",
       "      <th>WeekOfMonth</th>\n",
       "      <th>DayOfWeek</th>\n",
       "      <th>Make</th>\n",
       "      <th>AccidentArea</th>\n",
       "      <th>DayOfWeekClaimed</th>\n",
       "      <th>MonthClaimed</th>\n",
       "      <th>WeekOfMonthClaimed</th>\n",
       "      <th>Sex</th>\n",
       "      <th>MaritalStatus</th>\n",
       "      <th>...</th>\n",
       "      <th>AgeOfVehicle</th>\n",
       "      <th>AgeOfPolicyHolder</th>\n",
       "      <th>PoliceReportFiled</th>\n",
       "      <th>WitnessPresent</th>\n",
       "      <th>AgentType</th>\n",
       "      <th>NumberOfSuppliments</th>\n",
       "      <th>AddressChange_Claim</th>\n",
       "      <th>NumberOfCars</th>\n",
       "      <th>Year</th>\n",
       "      <th>BasePolicy</th>\n",
       "    </tr>\n",
       "  </thead>\n",
       "  <tbody>\n",
       "    <tr>\n",
       "      <th>0</th>\n",
       "      <td>Dec</td>\n",
       "      <td>5</td>\n",
       "      <td>Wednesday</td>\n",
       "      <td>Honda</td>\n",
       "      <td>Urban</td>\n",
       "      <td>Tuesday</td>\n",
       "      <td>Jan</td>\n",
       "      <td>1</td>\n",
       "      <td>Female</td>\n",
       "      <td>Single</td>\n",
       "      <td>...</td>\n",
       "      <td>3 years</td>\n",
       "      <td>26 to 30</td>\n",
       "      <td>No</td>\n",
       "      <td>No</td>\n",
       "      <td>External</td>\n",
       "      <td>none</td>\n",
       "      <td>1 year</td>\n",
       "      <td>3 to 4</td>\n",
       "      <td>1994</td>\n",
       "      <td>Liability</td>\n",
       "    </tr>\n",
       "    <tr>\n",
       "      <th>1</th>\n",
       "      <td>Jan</td>\n",
       "      <td>3</td>\n",
       "      <td>Wednesday</td>\n",
       "      <td>Honda</td>\n",
       "      <td>Urban</td>\n",
       "      <td>Monday</td>\n",
       "      <td>Jan</td>\n",
       "      <td>4</td>\n",
       "      <td>Male</td>\n",
       "      <td>Single</td>\n",
       "      <td>...</td>\n",
       "      <td>6 years</td>\n",
       "      <td>31 to 35</td>\n",
       "      <td>Yes</td>\n",
       "      <td>No</td>\n",
       "      <td>External</td>\n",
       "      <td>none</td>\n",
       "      <td>no change</td>\n",
       "      <td>1 vehicle</td>\n",
       "      <td>1994</td>\n",
       "      <td>Collision</td>\n",
       "    </tr>\n",
       "    <tr>\n",
       "      <th>2</th>\n",
       "      <td>Oct</td>\n",
       "      <td>5</td>\n",
       "      <td>Friday</td>\n",
       "      <td>Honda</td>\n",
       "      <td>Urban</td>\n",
       "      <td>Thursday</td>\n",
       "      <td>Nov</td>\n",
       "      <td>2</td>\n",
       "      <td>Male</td>\n",
       "      <td>Married</td>\n",
       "      <td>...</td>\n",
       "      <td>7 years</td>\n",
       "      <td>41 to 50</td>\n",
       "      <td>No</td>\n",
       "      <td>No</td>\n",
       "      <td>External</td>\n",
       "      <td>none</td>\n",
       "      <td>no change</td>\n",
       "      <td>1 vehicle</td>\n",
       "      <td>1994</td>\n",
       "      <td>Collision</td>\n",
       "    </tr>\n",
       "    <tr>\n",
       "      <th>3</th>\n",
       "      <td>Jun</td>\n",
       "      <td>2</td>\n",
       "      <td>Saturday</td>\n",
       "      <td>Toyota</td>\n",
       "      <td>Rural</td>\n",
       "      <td>Friday</td>\n",
       "      <td>Jul</td>\n",
       "      <td>1</td>\n",
       "      <td>Male</td>\n",
       "      <td>Married</td>\n",
       "      <td>...</td>\n",
       "      <td>more than 7</td>\n",
       "      <td>51 to 65</td>\n",
       "      <td>Yes</td>\n",
       "      <td>No</td>\n",
       "      <td>External</td>\n",
       "      <td>more than 5</td>\n",
       "      <td>no change</td>\n",
       "      <td>1 vehicle</td>\n",
       "      <td>1994</td>\n",
       "      <td>Liability</td>\n",
       "    </tr>\n",
       "    <tr>\n",
       "      <th>4</th>\n",
       "      <td>Jan</td>\n",
       "      <td>5</td>\n",
       "      <td>Monday</td>\n",
       "      <td>Honda</td>\n",
       "      <td>Urban</td>\n",
       "      <td>Tuesday</td>\n",
       "      <td>Feb</td>\n",
       "      <td>2</td>\n",
       "      <td>Female</td>\n",
       "      <td>Single</td>\n",
       "      <td>...</td>\n",
       "      <td>5 years</td>\n",
       "      <td>31 to 35</td>\n",
       "      <td>No</td>\n",
       "      <td>No</td>\n",
       "      <td>External</td>\n",
       "      <td>none</td>\n",
       "      <td>no change</td>\n",
       "      <td>1 vehicle</td>\n",
       "      <td>1994</td>\n",
       "      <td>Collision</td>\n",
       "    </tr>\n",
       "  </tbody>\n",
       "</table>\n",
       "<p>5 rows × 33 columns</p>\n",
       "</div>"
      ]
     },
     "execution_count": 49,
     "metadata": {},
     "output_type": "execute_result"
    }
   ],
   "execution_count": 49
  },
  {
   "metadata": {},
   "cell_type": "markdown",
   "source": [
    "# 数据三方垂直拆分\n",
    "我们首先对这个数据进行一个拆分的处理，来模拟一个数据垂直分割的三方场景：\n",
    "\n",
    "- alice持有前10个属性\n",
    "- bob持有中间的10个属性\n",
    "- carol持有剩下的所有属性以及标签值\n",
    "- \n",
    "同时为了方便各方之间的样本做对齐，我们加了一个新的特征UID来标识数据样本。\n",
    "\n",
    "我们预先基于sklearn将全集数据拆分成训练集和测试集，方便后续进行模型训练效果的验证。"
   ],
   "id": "f0dc660e08638068"
  },
  {
   "metadata": {
    "ExecuteTime": {
     "end_time": "2024-05-18T09:07:44.938929Z",
     "start_time": "2024-05-18T09:07:44.377806Z"
    }
   },
   "cell_type": "code",
   "source": [
    "train_alice_path = \"data/alice_train.csv\"\n",
    "train_bob_path = \"data/bob_train.csv\"\n",
    "train_carol_path = \"data/carol_train.csv\"\n",
    "\n",
    "test_alice_path = \"data/alice_test.csv\"\n",
    "test_bob_path = \"data/bob_test.csv\"\n",
    "test_carol_path = \"data/carol_test.csv\"\n",
    "\n",
    "\n",
    "def load_dataset_full(data_path):\n",
    "    df = pd.read_csv(data_path)\n",
    "    df = df.drop([0])\n",
    "    df = df.loc[df['DayOfWeekClaimed'] != '0']\n",
    "    y = df['FraudFound_P']\n",
    "    X = df.drop(columns='FraudFound_P')\n",
    "    return X, y\n",
    "\n",
    "\n",
    "def split_data():\n",
    "    x, y = load_dataset_full(full_data_path)\n",
    "    x_train, x_test, y_train, y_test = train_test_split(\n",
    "        x, y, test_size=0.3, random_state=10\n",
    "    )\n",
    "\n",
    "    print(x_train.shape)\n",
    "    train_alice_csv = x_train.iloc[:, :10]\n",
    "    train_bob_csv = x_train.iloc[:, 10:20]\n",
    "    train_carol_csv = pd.concat([x_train.iloc[:, 20:], y_train], axis=1)\n",
    "\n",
    "    train_alice_csv.to_csv(train_alice_path, index_label='UID')\n",
    "    train_bob_csv.to_csv(train_bob_path, index_label='UID')\n",
    "    train_carol_csv.to_csv(train_carol_path, index_label='UID')\n",
    "\n",
    "    print(x_test.shape)\n",
    "    test_alice_csv = x_test.iloc[:, :10]\n",
    "    test_bob_csv = x_test.iloc[:, 10:20]\n",
    "    test_carol_csv = pd.concat([x_test.iloc[:, 20:], y_test], axis=1)\n",
    "\n",
    "    test_alice_csv.to_csv(test_alice_path, index_label='UID')\n",
    "    test_bob_csv.to_csv(test_bob_path, index_label='UID')\n",
    "    test_carol_csv.to_csv(test_carol_path, index_label='UID')\n",
    "\n",
    "\n",
    "split_data()"
   ],
   "id": "5e9a3f2e59f8b255",
   "outputs": [
    {
     "name": "stdout",
     "output_type": "stream",
     "text": [
      "(10792, 32)\n",
      "(4626, 32)\n"
     ]
    }
   ],
   "execution_count": 50
  },
  {
   "metadata": {
    "ExecuteTime": {
     "end_time": "2024-05-18T09:07:46.412602Z",
     "start_time": "2024-05-18T09:07:46.342723Z"
    }
   },
   "cell_type": "code",
   "source": [
    "alice_train_df = pd.read_csv(train_alice_path)\n",
    "alice_train_df.head()"
   ],
   "id": "d1a9ce229a7b280a",
   "outputs": [
    {
     "data": {
      "text/plain": [
       "     UID Month  WeekOfMonth DayOfWeek    Make AccidentArea DayOfWeekClaimed  \\\n",
       "0   2853   Mar            4    Sunday  Toyota        Urban           Friday   \n",
       "1   7261   Apr            4  Saturday   Honda        Urban           Monday   \n",
       "2   9862   Jun            4    Sunday  Toyota        Rural           Monday   \n",
       "3  14037   Mar            2    Monday   Mazda        Urban           Monday   \n",
       "4  10199   Jun            3    Friday   Mazda        Urban          Tuesday   \n",
       "\n",
       "  MonthClaimed  WeekOfMonthClaimed     Sex MaritalStatus  \n",
       "0          Apr                   1    Male       Married  \n",
       "1          Apr                   4    Male       Married  \n",
       "2          Jun                   4  Female        Single  \n",
       "3          Mar                   2    Male        Single  \n",
       "4          Jun                   4  Female        Single  "
      ],
      "text/html": [
       "<div>\n",
       "<style scoped>\n",
       "    .dataframe tbody tr th:only-of-type {\n",
       "        vertical-align: middle;\n",
       "    }\n",
       "\n",
       "    .dataframe tbody tr th {\n",
       "        vertical-align: top;\n",
       "    }\n",
       "\n",
       "    .dataframe thead th {\n",
       "        text-align: right;\n",
       "    }\n",
       "</style>\n",
       "<table border=\"1\" class=\"dataframe\">\n",
       "  <thead>\n",
       "    <tr style=\"text-align: right;\">\n",
       "      <th></th>\n",
       "      <th>UID</th>\n",
       "      <th>Month</th>\n",
       "      <th>WeekOfMonth</th>\n",
       "      <th>DayOfWeek</th>\n",
       "      <th>Make</th>\n",
       "      <th>AccidentArea</th>\n",
       "      <th>DayOfWeekClaimed</th>\n",
       "      <th>MonthClaimed</th>\n",
       "      <th>WeekOfMonthClaimed</th>\n",
       "      <th>Sex</th>\n",
       "      <th>MaritalStatus</th>\n",
       "    </tr>\n",
       "  </thead>\n",
       "  <tbody>\n",
       "    <tr>\n",
       "      <th>0</th>\n",
       "      <td>2853</td>\n",
       "      <td>Mar</td>\n",
       "      <td>4</td>\n",
       "      <td>Sunday</td>\n",
       "      <td>Toyota</td>\n",
       "      <td>Urban</td>\n",
       "      <td>Friday</td>\n",
       "      <td>Apr</td>\n",
       "      <td>1</td>\n",
       "      <td>Male</td>\n",
       "      <td>Married</td>\n",
       "    </tr>\n",
       "    <tr>\n",
       "      <th>1</th>\n",
       "      <td>7261</td>\n",
       "      <td>Apr</td>\n",
       "      <td>4</td>\n",
       "      <td>Saturday</td>\n",
       "      <td>Honda</td>\n",
       "      <td>Urban</td>\n",
       "      <td>Monday</td>\n",
       "      <td>Apr</td>\n",
       "      <td>4</td>\n",
       "      <td>Male</td>\n",
       "      <td>Married</td>\n",
       "    </tr>\n",
       "    <tr>\n",
       "      <th>2</th>\n",
       "      <td>9862</td>\n",
       "      <td>Jun</td>\n",
       "      <td>4</td>\n",
       "      <td>Sunday</td>\n",
       "      <td>Toyota</td>\n",
       "      <td>Rural</td>\n",
       "      <td>Monday</td>\n",
       "      <td>Jun</td>\n",
       "      <td>4</td>\n",
       "      <td>Female</td>\n",
       "      <td>Single</td>\n",
       "    </tr>\n",
       "    <tr>\n",
       "      <th>3</th>\n",
       "      <td>14037</td>\n",
       "      <td>Mar</td>\n",
       "      <td>2</td>\n",
       "      <td>Monday</td>\n",
       "      <td>Mazda</td>\n",
       "      <td>Urban</td>\n",
       "      <td>Monday</td>\n",
       "      <td>Mar</td>\n",
       "      <td>2</td>\n",
       "      <td>Male</td>\n",
       "      <td>Single</td>\n",
       "    </tr>\n",
       "    <tr>\n",
       "      <th>4</th>\n",
       "      <td>10199</td>\n",
       "      <td>Jun</td>\n",
       "      <td>3</td>\n",
       "      <td>Friday</td>\n",
       "      <td>Mazda</td>\n",
       "      <td>Urban</td>\n",
       "      <td>Tuesday</td>\n",
       "      <td>Jun</td>\n",
       "      <td>4</td>\n",
       "      <td>Female</td>\n",
       "      <td>Single</td>\n",
       "    </tr>\n",
       "  </tbody>\n",
       "</table>\n",
       "</div>"
      ]
     },
     "execution_count": 51,
     "metadata": {},
     "output_type": "execute_result"
    }
   ],
   "execution_count": 51
  },
  {
   "metadata": {
    "ExecuteTime": {
     "end_time": "2024-05-18T09:07:48.778046Z",
     "start_time": "2024-05-18T09:07:48.711130Z"
    }
   },
   "cell_type": "code",
   "source": [
    "bob_train_df = pd.read_csv(train_bob_path)\n",
    "bob_train_df.head()"
   ],
   "id": "fe0df25e3ecc2808",
   "outputs": [
    {
     "data": {
      "text/plain": [
       "     UID  Age          Fault          PolicyType VehicleCategory  \\\n",
       "0   2853   39  Policy Holder  Sedan - All Perils           Sedan   \n",
       "1   7261   58  Policy Holder   Sedan - Liability           Sport   \n",
       "2   9862   28  Policy Holder  Sedan - All Perils           Sedan   \n",
       "3  14037   28  Policy Holder   Sedan - Collision           Sedan   \n",
       "4  10199   35  Policy Holder   Sedan - Collision           Sedan   \n",
       "\n",
       "      VehiclePrice  PolicyNumber  RepNumber  Deductible  DriverRating  \\\n",
       "0   20000 to 29000          2854          8         400             2   \n",
       "1   20000 to 29000          7262          4         400             4   \n",
       "2  less than 20000          9863          5         400             4   \n",
       "3   20000 to 29000         14038         11         400             4   \n",
       "4   20000 to 29000         10200         12         400             4   \n",
       "\n",
       "  Days_Policy_Accident  \n",
       "0         more than 30  \n",
       "1         more than 30  \n",
       "2         more than 30  \n",
       "3         more than 30  \n",
       "4         more than 30  "
      ],
      "text/html": [
       "<div>\n",
       "<style scoped>\n",
       "    .dataframe tbody tr th:only-of-type {\n",
       "        vertical-align: middle;\n",
       "    }\n",
       "\n",
       "    .dataframe tbody tr th {\n",
       "        vertical-align: top;\n",
       "    }\n",
       "\n",
       "    .dataframe thead th {\n",
       "        text-align: right;\n",
       "    }\n",
       "</style>\n",
       "<table border=\"1\" class=\"dataframe\">\n",
       "  <thead>\n",
       "    <tr style=\"text-align: right;\">\n",
       "      <th></th>\n",
       "      <th>UID</th>\n",
       "      <th>Age</th>\n",
       "      <th>Fault</th>\n",
       "      <th>PolicyType</th>\n",
       "      <th>VehicleCategory</th>\n",
       "      <th>VehiclePrice</th>\n",
       "      <th>PolicyNumber</th>\n",
       "      <th>RepNumber</th>\n",
       "      <th>Deductible</th>\n",
       "      <th>DriverRating</th>\n",
       "      <th>Days_Policy_Accident</th>\n",
       "    </tr>\n",
       "  </thead>\n",
       "  <tbody>\n",
       "    <tr>\n",
       "      <th>0</th>\n",
       "      <td>2853</td>\n",
       "      <td>39</td>\n",
       "      <td>Policy Holder</td>\n",
       "      <td>Sedan - All Perils</td>\n",
       "      <td>Sedan</td>\n",
       "      <td>20000 to 29000</td>\n",
       "      <td>2854</td>\n",
       "      <td>8</td>\n",
       "      <td>400</td>\n",
       "      <td>2</td>\n",
       "      <td>more than 30</td>\n",
       "    </tr>\n",
       "    <tr>\n",
       "      <th>1</th>\n",
       "      <td>7261</td>\n",
       "      <td>58</td>\n",
       "      <td>Policy Holder</td>\n",
       "      <td>Sedan - Liability</td>\n",
       "      <td>Sport</td>\n",
       "      <td>20000 to 29000</td>\n",
       "      <td>7262</td>\n",
       "      <td>4</td>\n",
       "      <td>400</td>\n",
       "      <td>4</td>\n",
       "      <td>more than 30</td>\n",
       "    </tr>\n",
       "    <tr>\n",
       "      <th>2</th>\n",
       "      <td>9862</td>\n",
       "      <td>28</td>\n",
       "      <td>Policy Holder</td>\n",
       "      <td>Sedan - All Perils</td>\n",
       "      <td>Sedan</td>\n",
       "      <td>less than 20000</td>\n",
       "      <td>9863</td>\n",
       "      <td>5</td>\n",
       "      <td>400</td>\n",
       "      <td>4</td>\n",
       "      <td>more than 30</td>\n",
       "    </tr>\n",
       "    <tr>\n",
       "      <th>3</th>\n",
       "      <td>14037</td>\n",
       "      <td>28</td>\n",
       "      <td>Policy Holder</td>\n",
       "      <td>Sedan - Collision</td>\n",
       "      <td>Sedan</td>\n",
       "      <td>20000 to 29000</td>\n",
       "      <td>14038</td>\n",
       "      <td>11</td>\n",
       "      <td>400</td>\n",
       "      <td>4</td>\n",
       "      <td>more than 30</td>\n",
       "    </tr>\n",
       "    <tr>\n",
       "      <th>4</th>\n",
       "      <td>10199</td>\n",
       "      <td>35</td>\n",
       "      <td>Policy Holder</td>\n",
       "      <td>Sedan - Collision</td>\n",
       "      <td>Sedan</td>\n",
       "      <td>20000 to 29000</td>\n",
       "      <td>10200</td>\n",
       "      <td>12</td>\n",
       "      <td>400</td>\n",
       "      <td>4</td>\n",
       "      <td>more than 30</td>\n",
       "    </tr>\n",
       "  </tbody>\n",
       "</table>\n",
       "</div>"
      ]
     },
     "execution_count": 52,
     "metadata": {},
     "output_type": "execute_result"
    }
   ],
   "execution_count": 52
  },
  {
   "metadata": {
    "ExecuteTime": {
     "end_time": "2024-05-18T09:07:51.111541Z",
     "start_time": "2024-05-18T09:07:51.031020Z"
    }
   },
   "cell_type": "code",
   "source": [
    "carol_train_df = pd.read_csv(train_carol_path)\n",
    "carol_train_df.head()"
   ],
   "id": "ebef2f3f0a6e06f",
   "outputs": [
    {
     "data": {
      "text/plain": [
       "     UID Days_Policy_Claim PastNumberOfClaims AgeOfVehicle AgeOfPolicyHolder  \\\n",
       "0   2853      more than 30                  1      7 years          36 to 40   \n",
       "1   7261      more than 30               none  more than 7          51 to 65   \n",
       "2   9862      more than 30               none      7 years          31 to 35   \n",
       "3  14037      more than 30                  1      6 years          31 to 35   \n",
       "4  10199      more than 30               none      5 years          31 to 35   \n",
       "\n",
       "  PoliceReportFiled WitnessPresent AgentType NumberOfSuppliments  \\\n",
       "0                No             No  External         more than 5   \n",
       "1                No             No  External              1 to 2   \n",
       "2                No             No  External                none   \n",
       "3                No             No  External                none   \n",
       "4                No             No  Internal                none   \n",
       "\n",
       "  AddressChange_Claim NumberOfCars  Year  BasePolicy  FraudFound_P  \n",
       "0           no change    1 vehicle  1994  All Perils             0  \n",
       "1           no change    1 vehicle  1995   Liability             0  \n",
       "2           no change    1 vehicle  1995  All Perils             0  \n",
       "3           no change    1 vehicle  1996   Collision             0  \n",
       "4           no change    1 vehicle  1995   Collision             0  "
      ],
      "text/html": [
       "<div>\n",
       "<style scoped>\n",
       "    .dataframe tbody tr th:only-of-type {\n",
       "        vertical-align: middle;\n",
       "    }\n",
       "\n",
       "    .dataframe tbody tr th {\n",
       "        vertical-align: top;\n",
       "    }\n",
       "\n",
       "    .dataframe thead th {\n",
       "        text-align: right;\n",
       "    }\n",
       "</style>\n",
       "<table border=\"1\" class=\"dataframe\">\n",
       "  <thead>\n",
       "    <tr style=\"text-align: right;\">\n",
       "      <th></th>\n",
       "      <th>UID</th>\n",
       "      <th>Days_Policy_Claim</th>\n",
       "      <th>PastNumberOfClaims</th>\n",
       "      <th>AgeOfVehicle</th>\n",
       "      <th>AgeOfPolicyHolder</th>\n",
       "      <th>PoliceReportFiled</th>\n",
       "      <th>WitnessPresent</th>\n",
       "      <th>AgentType</th>\n",
       "      <th>NumberOfSuppliments</th>\n",
       "      <th>AddressChange_Claim</th>\n",
       "      <th>NumberOfCars</th>\n",
       "      <th>Year</th>\n",
       "      <th>BasePolicy</th>\n",
       "      <th>FraudFound_P</th>\n",
       "    </tr>\n",
       "  </thead>\n",
       "  <tbody>\n",
       "    <tr>\n",
       "      <th>0</th>\n",
       "      <td>2853</td>\n",
       "      <td>more than 30</td>\n",
       "      <td>1</td>\n",
       "      <td>7 years</td>\n",
       "      <td>36 to 40</td>\n",
       "      <td>No</td>\n",
       "      <td>No</td>\n",
       "      <td>External</td>\n",
       "      <td>more than 5</td>\n",
       "      <td>no change</td>\n",
       "      <td>1 vehicle</td>\n",
       "      <td>1994</td>\n",
       "      <td>All Perils</td>\n",
       "      <td>0</td>\n",
       "    </tr>\n",
       "    <tr>\n",
       "      <th>1</th>\n",
       "      <td>7261</td>\n",
       "      <td>more than 30</td>\n",
       "      <td>none</td>\n",
       "      <td>more than 7</td>\n",
       "      <td>51 to 65</td>\n",
       "      <td>No</td>\n",
       "      <td>No</td>\n",
       "      <td>External</td>\n",
       "      <td>1 to 2</td>\n",
       "      <td>no change</td>\n",
       "      <td>1 vehicle</td>\n",
       "      <td>1995</td>\n",
       "      <td>Liability</td>\n",
       "      <td>0</td>\n",
       "    </tr>\n",
       "    <tr>\n",
       "      <th>2</th>\n",
       "      <td>9862</td>\n",
       "      <td>more than 30</td>\n",
       "      <td>none</td>\n",
       "      <td>7 years</td>\n",
       "      <td>31 to 35</td>\n",
       "      <td>No</td>\n",
       "      <td>No</td>\n",
       "      <td>External</td>\n",
       "      <td>none</td>\n",
       "      <td>no change</td>\n",
       "      <td>1 vehicle</td>\n",
       "      <td>1995</td>\n",
       "      <td>All Perils</td>\n",
       "      <td>0</td>\n",
       "    </tr>\n",
       "    <tr>\n",
       "      <th>3</th>\n",
       "      <td>14037</td>\n",
       "      <td>more than 30</td>\n",
       "      <td>1</td>\n",
       "      <td>6 years</td>\n",
       "      <td>31 to 35</td>\n",
       "      <td>No</td>\n",
       "      <td>No</td>\n",
       "      <td>External</td>\n",
       "      <td>none</td>\n",
       "      <td>no change</td>\n",
       "      <td>1 vehicle</td>\n",
       "      <td>1996</td>\n",
       "      <td>Collision</td>\n",
       "      <td>0</td>\n",
       "    </tr>\n",
       "    <tr>\n",
       "      <th>4</th>\n",
       "      <td>10199</td>\n",
       "      <td>more than 30</td>\n",
       "      <td>none</td>\n",
       "      <td>5 years</td>\n",
       "      <td>31 to 35</td>\n",
       "      <td>No</td>\n",
       "      <td>No</td>\n",
       "      <td>Internal</td>\n",
       "      <td>none</td>\n",
       "      <td>no change</td>\n",
       "      <td>1 vehicle</td>\n",
       "      <td>1995</td>\n",
       "      <td>Collision</td>\n",
       "      <td>0</td>\n",
       "    </tr>\n",
       "  </tbody>\n",
       "</table>\n",
       "</div>"
      ]
     },
     "execution_count": 53,
     "metadata": {},
     "output_type": "execute_result"
    }
   ],
   "execution_count": 53
  },
  {
   "metadata": {},
   "cell_type": "markdown",
   "source": [
    "# 三方数据加载\n",
    "注意：这里的接口里面需要显示地指明用于多方之间样本对齐的key，以及明确使用何种设备来执行PSI。"
   ],
   "id": "e991caafc30501ab"
  },
  {
   "metadata": {
    "ExecuteTime": {
     "end_time": "2024-05-18T09:08:04.504671Z",
     "start_time": "2024-05-18T09:07:56.118186Z"
    }
   },
   "cell_type": "code",
   "source": [
    "from secretflow.data.vertical import read_csv as v_read_csv\n",
    "\n",
    "train_ds = v_read_csv(\n",
    "    {alice: train_alice_path, bob: train_bob_path, carol: train_carol_path},\n",
    "    keys='UID',\n",
    "    drop_keys='UID',\n",
    "    spu=my_spu,\n",
    ")\n",
    "test_ds = v_read_csv(\n",
    "    {alice: test_alice_path, bob: test_bob_path, carol: test_carol_path},\n",
    "    keys='UID',\n",
    "    drop_keys='UID',\n",
    "    spu=my_spu,\n",
    ")\n",
    "print(train_ds)\n",
    "print(train_ds.columns)"
   ],
   "id": "dcac870c6a98516f",
   "outputs": [
    {
     "name": "stderr",
     "output_type": "stream",
     "text": [
      "INFO:root:Create proxy actor <class 'secretflow.data.core.agent.PartitionAgent'> with party alice.\n",
      "INFO:root:Create proxy actor <class 'secretflow.data.core.agent.PartitionAgent'> with party bob.\n",
      "INFO:root:Create proxy actor <class 'secretflow.data.core.agent.PartitionAgent'> with party carol.\n",
      "INFO:root:Create proxy actor <class 'secretflow.data.core.agent.PartitionAgent'> with party alice.\n",
      "INFO:root:Create proxy actor <class 'secretflow.data.core.agent.PartitionAgent'> with party bob.\n",
      "INFO:root:Create proxy actor <class 'secretflow.data.core.agent.PartitionAgent'> with party carol.\n"
     ]
    },
    {
     "name": "stdout",
     "output_type": "stream",
     "text": [
      "VDataFrame(partitions={PYURuntime(alice): <secretflow.data.core.partition.Partition object at 0x7fadfa180100>, PYURuntime(bob): <secretflow.data.core.partition.Partition object at 0x7fadfa1cff40>, PYURuntime(carol): <secretflow.data.core.partition.Partition object at 0x7fadfa168a00>}, aligned=True)\n",
      "['Month', 'WeekOfMonth', 'DayOfWeek', 'Make', 'AccidentArea', 'DayOfWeekClaimed', 'MonthClaimed', 'WeekOfMonthClaimed', 'Sex', 'MaritalStatus', 'Age', 'Fault', 'PolicyType', 'VehicleCategory', 'VehiclePrice', 'PolicyNumber', 'RepNumber', 'Deductible', 'DriverRating', 'Days_Policy_Accident', 'Days_Policy_Claim', 'PastNumberOfClaims', 'AgeOfVehicle', 'AgeOfPolicyHolder', 'PoliceReportFiled', 'WitnessPresent', 'AgentType', 'NumberOfSuppliments', 'AddressChange_Claim', 'NumberOfCars', 'Year', 'BasePolicy', 'FraudFound_P']\n"
     ]
    }
   ],
   "execution_count": 54
  },
  {
   "metadata": {},
   "cell_type": "markdown",
   "source": [
    "# 数据洞察\n",
    "基于上层封装的VDataFrame抽象，隐语提供了多种数据分析的API，例如统计信息、查改某些列的信息等。"
   ],
   "id": "13a1546ea8316393"
  },
  {
   "metadata": {
    "ExecuteTime": {
     "end_time": "2024-05-18T09:12:33.851153Z",
     "start_time": "2024-05-18T09:12:33.782057Z"
    }
   },
   "cell_type": "code",
   "source": [
    "print(train_ds['WeekOfMonth'].count())\n",
    "\n",
    "print(train_ds['WeekOfMonth'].max())\n",
    "print(train_ds['WeekOfMonth'].min())\n",
    "print(train_ds['WeekOfMonth'])"
   ],
   "id": "e4935c809774f436",
   "outputs": [
    {
     "name": "stdout",
     "output_type": "stream",
     "text": [
      "WeekOfMonth    10792\n",
      "dtype: int64\n",
      "WeekOfMonth    5\n",
      "dtype: int64\n",
      "WeekOfMonth    1\n",
      "dtype: int64\n",
      "VDataFrame(partitions={PYURuntime(alice): <secretflow.data.core.partition.Partition object at 0x7fadf966e400>}, aligned=True)\n"
     ]
    }
   ],
   "execution_count": 60
  },
  {
   "metadata": {},
   "cell_type": "markdown",
   "source": [
    "# 数据预处理\n",
    "在读取完数据之后，下面我们演示如何在隐语上对一个实际多方持有的数据进行数据预处理。\n",
    "\n",
    "# Label Encoder\n",
    "对无序且二值的值，我们可以使用label encoding，转化为0/1表示"
   ],
   "id": "e16c7ffef14a543b"
  },
  {
   "metadata": {
    "ExecuteTime": {
     "end_time": "2024-05-18T09:13:18.945946Z",
     "start_time": "2024-05-18T09:13:17.847575Z"
    }
   },
   "cell_type": "code",
   "source": [
    "from secretflow.preprocessing import LabelEncoder\n",
    "\n",
    "cols = [\n",
    "    'AccidentArea',\n",
    "    'Sex',\n",
    "    'Fault',\n",
    "    'PoliceReportFiled',\n",
    "    'WitnessPresent',\n",
    "    'AgentType',\n",
    "]\n",
    "for col in cols:\n",
    "    print(f\"Col name {col}: {df[col].unique()}\")\n",
    "\n",
    "train_ds_v1 = train_ds.copy()\n",
    "test_ds_v1 = test_ds.copy()\n",
    "\n",
    "label_encoder = LabelEncoder()\n",
    "for col in cols:\n",
    "    label_encoder.fit(train_ds_v1[col])\n",
    "    train_ds_v1[col] = label_encoder.transform(train_ds_v1[col])\n",
    "    test_ds_v1[col] = label_encoder.transform(test_ds_v1[col])"
   ],
   "id": "aac232b751e0251b",
   "outputs": [
    {
     "name": "stdout",
     "output_type": "stream",
     "text": [
      "Col name AccidentArea: ['Urban' 'Rural']\n",
      "Col name Sex: ['Female' 'Male']\n",
      "Col name Fault: ['Policy Holder' 'Third Party']\n",
      "Col name PoliceReportFiled: ['No' 'Yes']\n",
      "Col name WitnessPresent: ['No' 'Yes']\n",
      "Col name AgentType: ['External' 'Internal']\n"
     ]
    }
   ],
   "execution_count": 61
  },
  {
   "metadata": {},
   "cell_type": "markdown",
   "source": [
    "# (Ordinal) Categorical Features\n",
    "对于有序的类别数据，我们构建映射，将类别数据转化为0~n-1的整数"
   ],
   "id": "2daaf011e7312020"
  },
  {
   "metadata": {
    "ExecuteTime": {
     "end_time": "2024-05-18T10:02:31.200727Z",
     "start_time": "2024-05-18T10:02:00.796294Z"
    }
   },
   "cell_type": "code",
   "source": [
    "cols1 = [\n",
    "    \"Days_Policy_Accident\",\n",
    "    \"Days_Policy_Claim\",\n",
    "    \"AgeOfPolicyHolder\",\n",
    "    \"AddressChange_Claim\",\n",
    "    \"NumberOfCars\",\n",
    "]\n",
    "col_disc = [\n",
    "    {\n",
    "        \"Days_Policy_Accident\": {\n",
    "            \"more than 30\": 31,\n",
    "            \"15 to 30\": 22.5,\n",
    "            \"none\": 0,\n",
    "            \"1 to 7\": 4,\n",
    "            \"8 to 15\": 11.5,\n",
    "        }\n",
    "    },\n",
    "    {\n",
    "        \"Days_Policy_Claim\": {\n",
    "            \"more than 30\": 31,\n",
    "            \"15 to 30\": 22.5,\n",
    "            \"8 to 15\": 11.5,\n",
    "            \"none\": 0,\n",
    "        }\n",
    "    },\n",
    "    {\n",
    "        \"AgeOfPolicyHolder\": {\n",
    "            \"26 to 30\": 28,\n",
    "            \"31 to 35\": 33,\n",
    "            \"41 to 50\": 45.5,\n",
    "            \"51 to 65\": 58,\n",
    "            \"21 to 25\": 23,\n",
    "            \"36 to 40\": 38,\n",
    "            \"16 to 17\": 16.5,\n",
    "            \"over 65\": 66,\n",
    "            \"18 to 20\": 19,\n",
    "        }\n",
    "    },\n",
    "    {\n",
    "        \"AddressChange_Claim\": {\n",
    "            \"1 year\": 1,\n",
    "            \"no change\": 0,\n",
    "            \"4 to 8 years\": 6,\n",
    "            \"2 to 3 years\": 2.5,\n",
    "            \"under 6 months\": 0.5,\n",
    "        }\n",
    "    },\n",
    "    {\n",
    "        \"NumberOfCars\": {\n",
    "            \"3 to 4\": 3.5,\n",
    "            \"1 vehicle\": 1,\n",
    "            \"2 vehicles\": 2,\n",
    "            \"5 to 8\": 6.5,\n",
    "            \"more than 8\": 9,\n",
    "        }\n",
    "    },\n",
    "]\n",
    "\n",
    "cols2 = [\n",
    "    \"Month\",\n",
    "    \"DayOfWeek\",\n",
    "    \"DayOfWeekClaimed\",\n",
    "    \"MonthClaimed\",\n",
    "    \"PastNumberOfClaims\",\n",
    "    \"NumberOfSuppliments\",\n",
    "    \"VehiclePrice\",\n",
    "    \"AgeOfVehicle\",\n",
    "]\n",
    "col_ordering = [\n",
    "    {\n",
    "        \"Month\": {\n",
    "            \"Jan\": 1,\n",
    "            \"Feb\": 2,\n",
    "            \"Mar\": 3,\n",
    "            \"Apr\": 4,\n",
    "            \"May\": 5,\n",
    "            \"Jun\": 6,\n",
    "            \"Jul\": 7,\n",
    "            \"Aug\": 8,\n",
    "            \"Sep\": 9,\n",
    "            \"Oct\": 10,\n",
    "            \"Nov\": 11,\n",
    "            \"Dec\": 12,\n",
    "        }\n",
    "    },\n",
    "    {\n",
    "        \"DayOfWeek\": {\n",
    "            \"Monday\": 1,\n",
    "            \"Tuesday\": 2,\n",
    "            \"Wednesday\": 3,\n",
    "            \"Thursday\": 4,\n",
    "            \"Friday\": 5,\n",
    "            \"Saturday\": 6,\n",
    "            \"Sunday\": 7,\n",
    "        }\n",
    "    },\n",
    "    {\n",
    "        \"DayOfWeekClaimed\": {\n",
    "            \"Monday\": 1,\n",
    "            \"Tuesday\": 2,\n",
    "            \"Wednesday\": 3,\n",
    "            \"Thursday\": 4,\n",
    "            \"Friday\": 5,\n",
    "            \"Saturday\": 6,\n",
    "            \"Sunday\": 7,\n",
    "        }\n",
    "    },\n",
    "    {\n",
    "        \"MonthClaimed\": {\n",
    "            \"Jan\": 1,\n",
    "            \"Feb\": 2,\n",
    "            \"Mar\": 3,\n",
    "            \"Apr\": 4,\n",
    "            \"May\": 5,\n",
    "            \"Jun\": 6,\n",
    "            \"Jul\": 7,\n",
    "            \"Aug\": 8,\n",
    "            \"Sep\": 9,\n",
    "            \"Oct\": 10,\n",
    "            \"Nov\": 11,\n",
    "            \"Dec\": 12,\n",
    "        }\n",
    "    },\n",
    "    {\"PastNumberOfClaims\": {\"none\": 0, \"1\": 1, \"2 to 4\": 2, \"more than 4\": 5}},\n",
    "    {\"NumberOfSuppliments\": {\"none\": 0, \"1 to 2\": 1, \"3 to 5\": 3, \"more than 5\": 6}},\n",
    "    {\n",
    "        \"VehiclePrice\": {\n",
    "            \"more than 69000\": 69001,\n",
    "            \"20000 to 29000\": 24500,\n",
    "            \"30000 to 39000\": 34500,\n",
    "            \"less than 20000\": 19999,\n",
    "            \"40000 to 59000\": 49500,\n",
    "            \"60000 to 69000\": 64500,\n",
    "        }\n",
    "    },\n",
    "    {\n",
    "        \"AgeOfVehicle\": {\n",
    "            \"3 years\": 3,\n",
    "            \"6 years\": 6,\n",
    "            \"7 years\": 7,\n",
    "            \"more than 7\": 8,\n",
    "            \"5 years\": 5,\n",
    "            \"new\": 0,\n",
    "            \"4 years\": 4,\n",
    "            \"2 years\": 2,\n",
    "        }\n",
    "    },\n",
    "]\n",
    "\n",
    "from secretflow.data.vertical import VDataFrame\n",
    "\n",
    "\n",
    "def replace(df, col_maps):\n",
    "    df = df.copy()\n",
    "\n",
    "    def func_(df, col_map):\n",
    "        col_name = list(col_map.keys())[0]\n",
    "        col_dict = list(col_map.values())[0]\n",
    "        if col_name not in df.columns:\n",
    "            return\n",
    "        new_list = []\n",
    "        for i in df[col_name]:\n",
    "            new_list.append(col_dict[i])\n",
    "        df[col_name] = new_list\n",
    "\n",
    "    for col_map in col_maps:\n",
    "        func_(df, col_map)\n",
    "    return df\n",
    "\n",
    "\n",
    "col_maps = col_disc + col_ordering\n",
    "\n",
    "train_ds_v2 = train_ds_v1.copy()\n",
    "test_ds_v2 = test_ds_v1.copy()\n",
    "\n",
    "# NOTE: Reveal is only used for demo only!!\n",
    "print(f\"orig ds in alice:\\n {sf.reveal(train_ds_v2.partitions[alice].data)}\")\n",
    "train_ds_v2 = train_ds_v2.apply_func(replace, col_maps=col_maps)\n",
    "print(f\"orig ds in alice:\\n {sf.reveal(train_ds_v2.partitions[alice].data)}\")\n",
    "\n",
    "test_ds_v2 = test_ds_v2.apply_func(replace, col_maps=col_maps)"
   ],
   "id": "4b8b18609aba8e39",
   "outputs": [
    {
     "name": "stdout",
     "output_type": "stream",
     "text": [
      "orig ds in alice:\n",
      "       Month  WeekOfMonth  DayOfWeek       Make  AccidentArea DayOfWeekClaimed  \\\n",
      "0       Mar            4     Sunday     Toyota             1           Friday   \n",
      "1       Apr            4   Saturday      Honda             1           Monday   \n",
      "2       Jun            4     Sunday     Toyota             0           Monday   \n",
      "3       Mar            2     Monday      Mazda             1           Monday   \n",
      "4       Jun            3     Friday      Mazda             1          Tuesday   \n",
      "...     ...          ...        ...        ...           ...              ...   \n",
      "10787   Sep            2  Wednesday  Chevrolet             1           Monday   \n",
      "10788   Apr            4    Tuesday      Honda             1          Tuesday   \n",
      "10789   Jul            1     Monday       Ford             0        Wednesday   \n",
      "10790   Feb            3  Wednesday    Pontiac             1           Monday   \n",
      "10791   Feb            5     Monday    Mercury             1           Friday   \n",
      "\n",
      "      MonthClaimed  WeekOfMonthClaimed  Sex MaritalStatus  \n",
      "0              Apr                   1    1       Married  \n",
      "1              Apr                   4    1       Married  \n",
      "2              Jun                   4    0        Single  \n",
      "3              Mar                   2    1        Single  \n",
      "4              Jun                   4    0        Single  \n",
      "...            ...                 ...  ...           ...  \n",
      "10787          Sep                   2    0       Married  \n",
      "10788          May                   1    1       Married  \n",
      "10789          Jul                   1    1       Married  \n",
      "10790          Feb                   3    1       Married  \n",
      "10791          Mar                   1    1       Married  \n",
      "\n",
      "[10792 rows x 10 columns]\n",
      "orig ds in alice:\n",
      "        Month  WeekOfMonth  DayOfWeek       Make  AccidentArea  \\\n",
      "0          3            4          7     Toyota             1   \n",
      "1          4            4          6      Honda             1   \n",
      "2          6            4          7     Toyota             0   \n",
      "3          3            2          1      Mazda             1   \n",
      "4          6            3          5      Mazda             1   \n",
      "...      ...          ...        ...        ...           ...   \n",
      "10787      9            2          3  Chevrolet             1   \n",
      "10788      4            4          2      Honda             1   \n",
      "10789      7            1          1       Ford             0   \n",
      "10790      2            3          3    Pontiac             1   \n",
      "10791      2            5          1    Mercury             1   \n",
      "\n",
      "       DayOfWeekClaimed  MonthClaimed  WeekOfMonthClaimed  Sex MaritalStatus  \n",
      "0                     5             4                   1    1       Married  \n",
      "1                     1             4                   4    1       Married  \n",
      "2                     1             6                   4    0        Single  \n",
      "3                     1             3                   2    1        Single  \n",
      "4                     2             6                   4    0        Single  \n",
      "...                 ...           ...                 ...  ...           ...  \n",
      "10787                 1             9                   2    0       Married  \n",
      "10788                 2             5                   1    1       Married  \n",
      "10789                 3             7                   1    1       Married  \n",
      "10790                 1             2                   3    1       Married  \n",
      "10791                 5             3                   1    1       Married  \n",
      "\n",
      "[10792 rows x 10 columns]\n"
     ]
    }
   ],
   "execution_count": 64
  },
  {
   "metadata": {},
   "cell_type": "markdown",
   "source": [
    "# (Nominal) Categorical Features\n",
    "无序的类别数据，我们直接采用onehot encoder进行01编码\n",
    "\n",
    "## Onehot Encoder"
   ],
   "id": "6f26df623dd5044e"
  },
  {
   "metadata": {
    "ExecuteTime": {
     "end_time": "2024-05-18T10:09:31.329507Z",
     "start_time": "2024-05-18T10:09:30.658788Z"
    }
   },
   "cell_type": "code",
   "source": [
    "from secretflow.preprocessing import OneHotEncoder\n",
    "\n",
    "onehot_cols = ['Make', 'MaritalStatus', 'PolicyType', 'VehicleCategory', 'BasePolicy']\n",
    "\n",
    "onehot_encoder = OneHotEncoder()\n",
    "onehot_encoder.fit(train_ds_v2[onehot_cols])\n",
    "\n",
    "enc_feats = onehot_encoder.transform(train_ds_v2[onehot_cols])\n",
    "feature_names = enc_feats.columns\n",
    "train_ds_v3 = train_ds_v2.drop(columns=onehot_cols)\n",
    "train_ds_v3[feature_names] = enc_feats\n",
    "\n",
    "\n",
    "enc_feats = onehot_encoder.transform(test_ds_v2[onehot_cols])\n",
    "test_ds_v3 = test_ds_v2.drop(columns=onehot_cols)\n",
    "test_ds_v3[feature_names] = enc_feats\n",
    "\n",
    "print(f\"orig ds in alice:\\n {sf.reveal(train_ds_v3.partitions[alice].data)}\")"
   ],
   "id": "d06054cdadbe2d78",
   "outputs": [
    {
     "name": "stdout",
     "output_type": "stream",
     "text": [
      "orig ds in alice:\n",
      "        Month  WeekOfMonth  DayOfWeek  AccidentArea  DayOfWeekClaimed  \\\n",
      "0          3            4          7             1                 5   \n",
      "1          4            4          6             1                 1   \n",
      "2          6            4          7             0                 1   \n",
      "3          3            2          1             1                 1   \n",
      "4          6            3          5             1                 2   \n",
      "...      ...          ...        ...           ...               ...   \n",
      "10787      9            2          3             1                 1   \n",
      "10788      4            4          2             1                 2   \n",
      "10789      7            1          1             0                 3   \n",
      "10790      2            3          3             1                 1   \n",
      "10791      2            5          1             1                 5   \n",
      "\n",
      "       MonthClaimed  WeekOfMonthClaimed  Sex  Make_Accura  Make_BMW  ...  \\\n",
      "0                 4                   1    1          0.0       0.0  ...   \n",
      "1                 4                   4    1          0.0       0.0  ...   \n",
      "2                 6                   4    0          0.0       0.0  ...   \n",
      "3                 3                   2    1          0.0       0.0  ...   \n",
      "4                 6                   4    0          0.0       0.0  ...   \n",
      "...             ...                 ...  ...          ...       ...  ...   \n",
      "10787             9                   2    0          0.0       0.0  ...   \n",
      "10788             5                   1    1          0.0       0.0  ...   \n",
      "10789             7                   1    1          0.0       0.0  ...   \n",
      "10790             2                   3    1          0.0       0.0  ...   \n",
      "10791             3                   1    1          0.0       0.0  ...   \n",
      "\n",
      "       Make_Pontiac  Make_Porche  Make_Saab  Make_Saturn  Make_Toyota  \\\n",
      "0               0.0          0.0        0.0          0.0          1.0   \n",
      "1               0.0          0.0        0.0          0.0          0.0   \n",
      "2               0.0          0.0        0.0          0.0          1.0   \n",
      "3               0.0          0.0        0.0          0.0          0.0   \n",
      "4               0.0          0.0        0.0          0.0          0.0   \n",
      "...             ...          ...        ...          ...          ...   \n",
      "10787           0.0          0.0        0.0          0.0          0.0   \n",
      "10788           0.0          0.0        0.0          0.0          0.0   \n",
      "10789           0.0          0.0        0.0          0.0          0.0   \n",
      "10790           1.0          0.0        0.0          0.0          0.0   \n",
      "10791           0.0          0.0        0.0          0.0          0.0   \n",
      "\n",
      "       Make_VW  MaritalStatus_Divorced  MaritalStatus_Married  \\\n",
      "0          0.0                     0.0                    1.0   \n",
      "1          0.0                     0.0                    1.0   \n",
      "2          0.0                     0.0                    0.0   \n",
      "3          0.0                     0.0                    0.0   \n",
      "4          0.0                     0.0                    0.0   \n",
      "...        ...                     ...                    ...   \n",
      "10787      0.0                     0.0                    1.0   \n",
      "10788      0.0                     0.0                    1.0   \n",
      "10789      0.0                     0.0                    1.0   \n",
      "10790      0.0                     0.0                    1.0   \n",
      "10791      0.0                     0.0                    1.0   \n",
      "\n",
      "       MaritalStatus_Single  MaritalStatus_Widow  \n",
      "0                       0.0                  0.0  \n",
      "1                       0.0                  0.0  \n",
      "2                       1.0                  0.0  \n",
      "3                       1.0                  0.0  \n",
      "4                       1.0                  0.0  \n",
      "...                     ...                  ...  \n",
      "10787                   0.0                  0.0  \n",
      "10788                   0.0                  0.0  \n",
      "10789                   0.0                  0.0  \n",
      "10790                   0.0                  0.0  \n",
      "10791                   0.0                  0.0  \n",
      "\n",
      "[10792 rows x 31 columns]\n"
     ]
    }
   ],
   "execution_count": 66
  },
  {
   "metadata": {
    "ExecuteTime": {
     "end_time": "2024-05-18T10:10:54.460742Z",
     "start_time": "2024-05-18T10:10:54.316235Z"
    }
   },
   "cell_type": "code",
   "source": [
    "train_ds_final = train_ds_v3.copy()\n",
    "test_ds_final = test_ds_v3.copy()\n",
    "\n",
    "X_train = train_ds_v3.drop(columns=['FraudFound_P'])\n",
    "y_train = train_ds_final['FraudFound_P']\n",
    "X_test = test_ds_final.drop(columns='FraudFound_P')\n",
    "y_test = test_ds_final['FraudFound_P']\n",
    "\n",
    "print(\"data load done\")"
   ],
   "id": "7a4e03d59e53ddea",
   "outputs": [
    {
     "name": "stdout",
     "output_type": "stream",
     "text": [
      "data load done\n"
     ]
    }
   ],
   "execution_count": 67
  },
  {
   "metadata": {},
   "cell_type": "markdown",
   "source": [
    "# 数据对象转换\n",
    "此处我们将PYUObject 转化为 SPUObject，方便输入到SPU device执行基于MPC协议的隐私计算"
   ],
   "id": "6d84eb5fa2fc9f24"
  },
  {
   "metadata": {
    "ExecuteTime": {
     "end_time": "2024-05-18T10:35:05.538153Z",
     "start_time": "2024-05-18T10:35:03.406859Z"
    }
   },
   "cell_type": "code",
   "source": [
    "import jax\n",
    "import jax.numpy as jnp\n",
    "\n",
    "\"\"\"\n",
    "Convert the VDataFrame object to SPUObject\n",
    "\"\"\"\n",
    "\n",
    "\n",
    "def vdataframe_to_spu(vdf: VDataFrame):\n",
    "    spu_partitions = []\n",
    "    for device in [alice, bob, carol]:\n",
    "        spu_partitions.append(vdf.partitions[device].data.to(my_spu))\n",
    "    base_partition = spu_partitions[0]\n",
    "    for i in range(1, len(spu_partitions)):\n",
    "        base_partition = my_spu(lambda x, y: jnp.concatenate([x, y], axis=1))(\n",
    "            base_partition, spu_partitions[i]\n",
    "        )\n",
    "    return base_partition\n",
    "\n",
    "\n",
    "X_train_spu = vdataframe_to_spu(X_train)\n",
    "y_train_spu = y_train.partitions[carol].data.to(my_spu)\n",
    "X_test_spu = vdataframe_to_spu(X_test)\n",
    "y_test_spu = y_test.partitions[carol].data.to(my_spu)\n",
    "print(f\"X_train type: {X_train}\\n\\nX_train_spu type: {X_train_spu}\")\n",
    "\n",
    "\"\"\"\n",
    "NOTE: This is only for demo only!! This shall not be used in production.\n",
    "\"\"\"\n",
    "X_train_plaintext = sf.reveal(X_train_spu)\n",
    "y_train_plaintext = sf.reveal(y_train_spu)\n",
    "X_test_plaintext = sf.reveal(X_test_spu)\n",
    "y_test_plaintext = sf.reveal(y_test_spu)\n",
    "\n",
    "print(f'X_train_plaintext: \\n{X_train_plaintext}')\n",
    "print(X_train_plaintext.shape)"
   ],
   "id": "b2f5376d3eb55941",
   "outputs": [
    {
     "name": "stdout",
     "output_type": "stream",
     "text": [
      "X_train type: VDataFrame(partitions={PYURuntime(alice): <secretflow.data.core.partition.Partition object at 0x7fadfa16bbe0>, PYURuntime(bob): <secretflow.data.core.partition.Partition object at 0x7fadf9fe1ac0>, PYURuntime(carol): <secretflow.data.core.partition.Partition object at 0x7fb79278e550>}, aligned=True)\n",
      "\n",
      "X_train_spu type: <secretflow.device.device.spu.SPUObject object at 0x7fadfa05c580>\n",
      "X_train_plaintext: \n",
      "[[3. 4. 7. ... 1. 0. 0.]\n",
      " [4. 4. 6. ... 0. 0. 1.]\n",
      " [6. 4. 7. ... 1. 0. 0.]\n",
      " ...\n",
      " [7. 1. 1. ... 0. 1. 0.]\n",
      " [2. 3. 3. ... 0. 0. 1.]\n",
      " [2. 5. 1. ... 0. 0. 1.]]\n",
      "(10792, 64)\n"
     ]
    }
   ],
   "execution_count": 78
  },
  {
   "metadata": {},
   "cell_type": "markdown",
   "source": [
    "# 模型构建\n",
    "在完成数据的读入之后，下面我们进行模型的构建。在本demo中，主要提供了三种模型的构建： - LR: 逻辑回归 - NN：神经网络模型 - XGB: XGBoost 树模型\n",
    "\n",
    "- 注意，本示例主要是演示在隐语上进行算法开发的流程，并没有针对模型 (LR, NN) 进行调参。我们分别提供了明文和密文的计算结果，实验结果显示两者的输出是基本一致的，表明隐语的密态计算能够和明文计算保持精度一致。\n",
    "\n",
    "## LR ( jax ) using SPU"
   ],
   "id": "cba63d18c2a60a35"
  },
  {
   "metadata": {
    "ExecuteTime": {
     "end_time": "2024-05-18T10:37:25.138605Z",
     "start_time": "2024-05-18T10:37:25.043518Z"
    }
   },
   "cell_type": "code",
   "source": [
    "from jax.example_libraries import optimizers, stax\n",
    "from jax.example_libraries.stax import (\n",
    "    Conv,\n",
    "    MaxPool,\n",
    "    AvgPool,\n",
    "    Flatten,\n",
    "    Dense,\n",
    "    Relu,\n",
    "    Sigmoid,\n",
    "    LogSoftmax,\n",
    "    Softmax,\n",
    "    BatchNorm,\n",
    ")\n",
    "\n",
    "\n",
    "def sigmoid(x):\n",
    "    x = (x - jnp.min(x)) / (jnp.max(x) - jnp.min(x))\n",
    "    return 1 / (1 + jnp.exp(-x))\n",
    "\n",
    "\n",
    "# Outputs probability of a label being true.\n",
    "def predict_lr(W, b, inputs):\n",
    "    return sigmoid(jnp.dot(inputs, W) + b)\n",
    "\n",
    "\n",
    "# Training loss is the negative log-likelihood of the training examples.\n",
    "def loss_lr(W, b, inputs, targets):\n",
    "    preds = predict_lr(W, b, inputs)\n",
    "    label_probs = preds * targets + (1 - preds) * (1 - targets)\n",
    "    return -jnp.mean(jnp.log(label_probs))\n",
    "\n",
    "\n",
    "def train_step(W, b, X, y, learning_rate):\n",
    "    loss_value, Wb_grad = jax.value_and_grad(loss_lr, (0, 1))(W, b, X, y)\n",
    "    W -= learning_rate * Wb_grad[0]\n",
    "    b -= learning_rate * Wb_grad[1]\n",
    "    return loss_value, W, b\n",
    "\n",
    "\n",
    "def fit(W, b, X, y, epochs=1, learning_rate=1e-2, batch_size=128):\n",
    "    losses = jnp.array([])\n",
    "\n",
    "    xs = jnp.array_split(X, len(X) / batch_size, axis=0)\n",
    "    ys = jnp.array_split(y, len(y) / batch_size, axis=0)\n",
    "\n",
    "    for _ in range(epochs):\n",
    "        for batch_x, batch_y in zip(xs, ys):\n",
    "            l, W, b = train_step(W, b, batch_x, batch_y, learning_rate=learning_rate)\n",
    "            losses = jnp.append(losses, l)\n",
    "    return losses, W, b"
   ],
   "id": "fbe0fd29dfc6d7db",
   "outputs": [],
   "execution_count": 79
  },
  {
   "metadata": {
    "ExecuteTime": {
     "end_time": "2024-05-18T10:40:14.604940Z",
     "start_time": "2024-05-18T10:37:37.428021Z"
    }
   },
   "cell_type": "code",
   "source": [
    "from jax import random\n",
    "import sys\n",
    "import time\n",
    "import logging\n",
    "\n",
    "logging.basicConfig(stream=sys.stdout, level=logging.DEBUG)\n",
    "logging.getLogger().setLevel(logging.INFO)\n",
    "\n",
    "from sklearn.metrics import roc_auc_score\n",
    "\n",
    "\n",
    "# Hyperparameter\n",
    "key = random.PRNGKey(42)\n",
    "W = jax.random.normal(key, shape=(64,))\n",
    "b = 0.0\n",
    "epochs = 1\n",
    "learning_rate = 1e-2\n",
    "batch_size = 128\n",
    "\n",
    "\"\"\"\n",
    "CPU-version plaintext computation\n",
    "\"\"\"\n",
    "losses_cpu, W_cpu, b_cpu = fit(\n",
    "    W,\n",
    "    b,\n",
    "    X_train_plaintext,\n",
    "    y_train_plaintext,\n",
    "    epochs=epochs,\n",
    "    learning_rate=learning_rate,\n",
    "    batch_size=batch_size,\n",
    ")\n",
    "y_pred_cpu = predict_lr(W_cpu, b_cpu, X_test_plaintext)\n",
    "print(f\"\\033[31m(Jax LR CPU) auc: {roc_auc_score(y_test_plaintext, y_pred_cpu)}\\033[0m\")\n",
    "\n",
    "\"\"\"\n",
    "SPU-version secure computation\n",
    "\"\"\"\n",
    "W_, b_ = (\n",
    "    sf.to(alice, W).to(my_spu),\n",
    "    sf.to(alice, b).to(my_spu),\n",
    ")\n",
    "losses_spu, W_spu, b_spu = my_spu(\n",
    "    fit,\n",
    "    static_argnames=[\"epochs\", \"learning_rate\", \"batch_size\"],\n",
    "    num_returns_policy=sf.device.SPUCompilerNumReturnsPolicy.FROM_USER,\n",
    "    user_specified_num_returns=3,\n",
    ")(\n",
    "    W_,\n",
    "    b_,\n",
    "    X_train_spu,\n",
    "    y_train_spu,\n",
    "    epochs=epochs,\n",
    "    learning_rate=learning_rate,\n",
    "    batch_size=batch_size,\n",
    ")\n",
    "\n",
    "y_pred_spu = my_spu(predict_lr)(W_spu, b_spu, X_test_spu)\n",
    "y_pred = sf.reveal(y_pred_spu)\n",
    "print(f\"\\033[31m(Jax LR SPU) auc: {roc_auc_score(y_test_plaintext, y_pred)}\\033[0m\")"
   ],
   "id": "8b1f946b12a6b3d5",
   "outputs": [
    {
     "name": "stderr",
     "output_type": "stream",
     "text": [
      "INFO:jax._src.xla_bridge:Unable to initialize backend 'cuda': module 'jaxlib.xla_extension' has no attribute 'GpuAllocatorConfig'\n",
      "INFO:jax._src.xla_bridge:Unable to initialize backend 'rocm': module 'jaxlib.xla_extension' has no attribute 'GpuAllocatorConfig'\n",
      "INFO:jax._src.xla_bridge:Unable to initialize backend 'tpu': INVALID_ARGUMENT: TpuPlatform is not available.\n",
      "INFO:jax._src.xla_bridge:Unable to initialize backend 'plugin': xla_extension has no attributes named get_plugin_device_client. Compile TensorFlow with //tensorflow/compiler/xla/python:enable_plugin_device set to true (defaults to false) to enable this.\n",
      "WARNING:jax._src.xla_bridge:No GPU/TPU found, falling back to CPU. (Set TF_CPP_MIN_LOG_LEVEL=0 and rerun for more info.)\n"
     ]
    },
    {
     "name": "stdout",
     "output_type": "stream",
     "text": [
      "\u001B[31m(Jax LR CPU) auc: 0.5243556504755678\u001B[0m\n",
      "\u001B[31m(Jax LR SPU) auc: 0.4964135718787683\u001B[0m\n"
     ]
    }
   ],
   "execution_count": 80
  },
  {
   "metadata": {},
   "cell_type": "markdown",
   "source": "# NN ( jax + flax ) using SPU",
   "id": "a8733beddd7bec62"
  },
  {
   "metadata": {
    "ExecuteTime": {
     "end_time": "2024-05-18T10:40:40.705031Z",
     "start_time": "2024-05-18T10:40:14.610435Z"
    }
   },
   "cell_type": "code",
   "source": [
    "import sys\n",
    "\n",
    "!{sys.executable} -m pip install flax==0.6.0 -q"
   ],
   "id": "8c9d5a22155acf3c",
   "outputs": [
    {
     "name": "stderr",
     "output_type": "stream",
     "text": [
      "9548.87s - pydevd: Sending message related to process being replaced timed-out after 5 seconds\n"
     ]
    },
    {
     "name": "stdout",
     "output_type": "stream",
     "text": [
      "\u001B[31mERROR: pip's dependency resolver does not currently take into account all the packages that are installed. This behaviour is the source of the following dependency conflicts.\r\n",
      "secretnote 0.0.4 requires rich>=13.7.0, but you have rich 11.2.0 which is incompatible.\u001B[0m\u001B[31m\r\n",
      "\u001B[0m"
     ]
    }
   ],
   "execution_count": 81
  },
  {
   "metadata": {
    "ExecuteTime": {
     "end_time": "2024-05-18T10:41:41.182290Z",
     "start_time": "2024-05-18T10:41:29.954316Z"
    }
   },
   "cell_type": "code",
   "source": [
    "from typing import Sequence\n",
    "import flax.linen as nn\n",
    "\n",
    "\n",
    "class MLP(nn.Module):\n",
    "    features: Sequence[int]\n",
    "\n",
    "    @nn.compact\n",
    "    def __call__(self, x):\n",
    "        for feat in self.features[:-1]:\n",
    "            x = nn.relu(nn.Dense(feat)(x))\n",
    "        x = nn.Dense(self.features[-1])(x)\n",
    "        return x\n",
    "\n",
    "\n",
    "FEATURES = [1]\n",
    "flax_nn = MLP(FEATURES)\n",
    "\n",
    "\n",
    "def predict(params, x):\n",
    "    from typing import Sequence\n",
    "    import flax.linen as nn\n",
    "\n",
    "    class MLP(nn.Module):\n",
    "        features: Sequence[int]\n",
    "\n",
    "        @nn.compact\n",
    "        def __call__(self, x):\n",
    "            for feat in self.features[:-1]:\n",
    "                x = nn.relu(nn.Dense(feat)(x))\n",
    "            x = nn.Dense(self.features[-1])(x)\n",
    "            return x\n",
    "\n",
    "    FEATURES = [1]\n",
    "    flax_nn = MLP(FEATURES)\n",
    "    return flax_nn.apply(params, x)\n",
    "\n",
    "\n",
    "def loss_func(params, x, y):\n",
    "    preds = predict(params, x)\n",
    "    label_probs = preds * y + (1 - preds) * (1 - y)\n",
    "    return -jnp.mean(jnp.log(label_probs))\n",
    "\n",
    "\n",
    "def train_auto_grad(X, y, params, batch_size=10, epochs=10, learning_rate=0.01):\n",
    "    xs = jnp.array_split(X, len(X) / batch_size, axis=0)\n",
    "    ys = jnp.array_split(y, len(y) / batch_size, axis=0)\n",
    "\n",
    "    for _ in range(epochs):\n",
    "        for batch_x, batch_y in zip(xs, ys):\n",
    "            _, grads = jax.value_and_grad(loss_func)(params, batch_x, batch_y)\n",
    "            params = jax.tree_util.tree_map(\n",
    "                lambda p, g: p - learning_rate * g, params, grads\n",
    "            )\n",
    "    return params\n",
    "\n",
    "\n",
    "epochs = 1\n",
    "learning_rate = 1e-2\n",
    "batch_size = 128\n",
    "\n",
    "feature_dim = 64  # from the dataset\n",
    "init_params = flax_nn.init(jax.random.PRNGKey(1), jnp.ones((batch_size, feature_dim)))\n",
    "\n",
    "\"\"\"\n",
    "CPU-version plaintext computation\n",
    "\"\"\"\n",
    "params = train_auto_grad(\n",
    "    X_train_plaintext, y_train_plaintext, init_params, batch_size, epochs, learning_rate\n",
    ")\n",
    "y_pred = predict(params, X_test_plaintext)\n",
    "print(f\"\\033[31m(Flax NN CPU) auc: {roc_auc_score(y_test_plaintext, y_pred)}\\033[0m\")\n",
    "\n",
    "\"\"\"\n",
    "SPU-version secure computation\n",
    "\"\"\"\n",
    "params_spu = sf.to(alice, init_params).to(my_spu)\n",
    "params_spu = my_spu(\n",
    "    train_auto_grad, static_argnames=['batch_size', 'epochs', 'learning_rate']\n",
    ")(\n",
    "    X_train_spu,\n",
    "    y_train_spu,\n",
    "    params_spu,\n",
    "    batch_size=batch_size,\n",
    "    epochs=epochs,\n",
    "    learning_rate=learning_rate,\n",
    ")\n",
    "y_pred_spu = my_spu(predict)(params_spu, X_test_spu)\n",
    "y_pred_ = sf.reveal(y_pred_spu)\n",
    "print(f\"\\033[31m(Flax NN SPU) auc: {roc_auc_score(y_test_plaintext, y_pred_)}\\033[0m\")"
   ],
   "id": "82d14ea6b8b85b11",
   "outputs": [
    {
     "name": "stderr",
     "output_type": "stream",
     "text": [
      "/home/ubuntu/anaconda3/envs/sf/lib/python3.8/site-packages/flax/struct.py:132: FutureWarning: jax.tree_util.register_keypaths is deprecated, and will be removed in a future release. Please use `register_pytree_with_keys()` instead.\n",
      "  jax.tree_util.register_keypaths(data_clz, keypaths)\n",
      "/home/ubuntu/anaconda3/envs/sf/lib/python3.8/site-packages/flax/struct.py:132: FutureWarning: jax.tree_util.register_keypaths is deprecated, and will be removed in a future release. Please use `register_pytree_with_keys()` instead.\n",
      "  jax.tree_util.register_keypaths(data_clz, keypaths)\n"
     ]
    },
    {
     "name": "stdout",
     "output_type": "stream",
     "text": [
      "\u001B[31m(Flax NN CPU) auc: 0.5022025986877814\u001B[0m\n",
      "\u001B[31m(Flax NN SPU) auc: 0.5022021779430463\u001B[0m\n"
     ]
    }
   ],
   "execution_count": 82
  },
  {
   "metadata": {},
   "cell_type": "markdown",
   "source": "# XGB ( jax ) using SPU\n",
   "id": "d3a1f8070f2dc74a"
  },
  {
   "metadata": {
    "ExecuteTime": {
     "end_time": "2024-05-18T11:46:04.390594Z",
     "start_time": "2024-05-18T11:43:45.797246Z"
    }
   },
   "cell_type": "code",
   "source": [
    "from secretflow.ml.boost.ss_xgb_v import Xgb\n",
    "import time\n",
    "from sklearn.metrics import roc_auc_score\n",
    "\n",
    "\"\"\"\n",
    "SPU-version Secure computation\n",
    "\"\"\"\n",
    "xgb = Xgb(my_spu)\n",
    "params = {\n",
    "    # <<< !!! >>> change args to your test settings.\n",
    "    # for more detail, see Xgb.train.__doc__\n",
    "    'num_boost_round': 10,\n",
    "    'max_depth': 4,\n",
    "    'learning_rate': 0.05,\n",
    "    'sketch_eps': 0.05,\n",
    "    'objective': 'logistic',\n",
    "    'reg_lambda': 1,\n",
    "    'subsample': 0.75,\n",
    "    'colsample_by_tree': 1,\n",
    "    'base_score': 0.5,\n",
    "}\n",
    "\n",
    "start = time.time()\n",
    "model = xgb.train(params, X_train, y_train)\n",
    "print(f\"train time: {time.time() - start}\")\n",
    "\n",
    "start = time.time()\n",
    "spu_yhat = model.predict(X_test)\n",
    "print(f\"predict time: {time.time() - start}\")\n",
    "\n",
    "yhat = sf.reveal(spu_yhat)\n",
    "print(f\"\\033[31m(SS-XGB) auc: {roc_auc_score(y_test_plaintext, yhat)}\\033[0m\")"
   ],
   "id": "a0408482dd5031d7",
   "outputs": [
    {
     "name": "stderr",
     "output_type": "stream",
     "text": [
      "INFO:root:Create proxy actor <class 'secretflow.ml.boost.ss_xgb_v.core.tree_worker.XgbTreeWorker'> with party alice.\n",
      "INFO:root:Create proxy actor <class 'secretflow.ml.boost.ss_xgb_v.core.tree_worker.XgbTreeWorker'> with party bob.\n",
      "INFO:root:Create proxy actor <class 'secretflow.ml.boost.ss_xgb_v.core.tree_worker.XgbTreeWorker'> with party carol.\n",
      "INFO:root:fragment_count 1\n",
      "INFO:root:prepare time 0.6724739074707031s\n",
      "INFO:root:global_setup time 2.939117908477783s\n",
      "INFO:root:build & infeed bucket_map fragments [0, 0]\n",
      "INFO:root:build & infeed bucket_map time 0.580693244934082s\n",
      "INFO:root:init_pred time 0.0823979377746582s\n",
      "INFO:root:epoch 0 tree_setup time 0.21641254425048828s\n",
      "INFO:root:fragment[0, 0] gradient sum time 2.255826711654663s\n",
      "INFO:root:level 0 time 2.839773178100586s\n",
      "INFO:root:fragment[0, 0] gradient sum time 2.194178819656372s\n",
      "INFO:root:level 1 time 2.8225653171539307s\n",
      "INFO:root:fragment[0, 0] gradient sum time 2.265706777572632s\n",
      "INFO:root:level 2 time 2.982210397720337s\n",
      "INFO:root:fragment[0, 0] gradient sum time 2.46325421333313s\n",
      "INFO:root:level 3 time 3.32232403755188s\n",
      "INFO:root:epoch 0 time 12.541211366653442s\n",
      "INFO:root:epoch 1 tree_setup time 0.35251331329345703s\n",
      "INFO:root:fragment[0, 0] gradient sum time 2.2138874530792236s\n",
      "INFO:root:level 0 time 2.8189709186553955s\n",
      "INFO:root:fragment[0, 0] gradient sum time 2.187767267227173s\n",
      "INFO:root:level 1 time 2.8140032291412354s\n",
      "INFO:root:fragment[0, 0] gradient sum time 2.2674081325531006s\n",
      "INFO:root:level 2 time 2.9921786785125732s\n",
      "INFO:root:fragment[0, 0] gradient sum time 2.426053047180176s\n",
      "INFO:root:level 3 time 3.297123908996582s\n",
      "INFO:root:epoch 1 time 12.482508659362793s\n",
      "INFO:root:epoch 2 tree_setup time 0.3565988540649414s\n",
      "INFO:root:fragment[0, 0] gradient sum time 2.194883108139038s\n",
      "INFO:root:level 0 time 2.770416498184204s\n",
      "INFO:root:fragment[0, 0] gradient sum time 2.2095139026641846s\n",
      "INFO:root:level 1 time 2.837671995162964s\n",
      "INFO:root:fragment[0, 0] gradient sum time 2.296884775161743s\n",
      "INFO:root:level 2 time 3.017446756362915s\n",
      "INFO:root:fragment[0, 0] gradient sum time 2.4168810844421387s\n",
      "INFO:root:level 3 time 3.2873449325561523s\n",
      "INFO:root:epoch 2 time 12.463358163833618s\n",
      "INFO:root:epoch 3 tree_setup time 0.35402584075927734s\n",
      "INFO:root:fragment[0, 0] gradient sum time 2.1917755603790283s\n",
      "INFO:root:level 0 time 2.7701151371002197s\n",
      "INFO:root:fragment[0, 0] gradient sum time 2.1892428398132324s\n",
      "INFO:root:level 1 time 2.8256404399871826s\n",
      "INFO:root:fragment[0, 0] gradient sum time 2.343228816986084s\n",
      "INFO:root:level 2 time 3.067720413208008s\n",
      "INFO:root:fragment[0, 0] gradient sum time 2.4305331707000732s\n",
      "INFO:root:level 3 time 3.3022544384002686s\n",
      "INFO:root:epoch 3 time 12.516233682632446s\n",
      "INFO:root:epoch 4 tree_setup time 0.36411166191101074s\n",
      "INFO:root:fragment[0, 0] gradient sum time 2.1978156566619873s\n",
      "INFO:root:level 0 time 2.7808334827423096s\n",
      "INFO:root:fragment[0, 0] gradient sum time 2.1798319816589355s\n",
      "INFO:root:level 1 time 2.8052449226379395s\n",
      "INFO:root:fragment[0, 0] gradient sum time 2.253242254257202s\n",
      "INFO:root:level 2 time 2.9552972316741943s\n",
      "INFO:root:fragment[0, 0] gradient sum time 2.412773609161377s\n",
      "INFO:root:level 3 time 3.274184226989746s\n",
      "INFO:root:epoch 4 time 12.381386280059814s\n",
      "INFO:root:epoch 5 tree_setup time 0.36846494674682617s\n",
      "INFO:root:fragment[0, 0] gradient sum time 2.2024266719818115s\n",
      "INFO:root:level 0 time 2.8035037517547607s\n",
      "INFO:root:fragment[0, 0] gradient sum time 2.2324576377868652s\n",
      "INFO:root:level 1 time 2.862104892730713s\n",
      "INFO:root:fragment[0, 0] gradient sum time 2.2974624633789062s\n",
      "INFO:root:level 2 time 3.041323184967041s\n",
      "INFO:root:fragment[0, 0] gradient sum time 2.433924913406372s\n",
      "INFO:root:level 3 time 3.322890043258667s\n",
      "INFO:root:epoch 5 time 12.606706619262695s\n",
      "INFO:root:epoch 6 tree_setup time 0.36405205726623535s\n",
      "INFO:root:fragment[0, 0] gradient sum time 2.4688878059387207s\n",
      "INFO:root:level 0 time 3.0822880268096924s\n",
      "INFO:root:fragment[0, 0] gradient sum time 2.1941895484924316s\n",
      "INFO:root:level 1 time 2.8326315879821777s\n",
      "INFO:root:fragment[0, 0] gradient sum time 2.2666306495666504s\n",
      "INFO:root:level 2 time 2.9921205043792725s\n",
      "INFO:root:fragment[0, 0] gradient sum time 2.421140432357788s\n",
      "INFO:root:level 3 time 3.3067963123321533s\n",
      "INFO:root:epoch 6 time 12.800573587417603s\n",
      "INFO:root:epoch 7 tree_setup time 0.3609325885772705s\n",
      "INFO:root:fragment[0, 0] gradient sum time 2.2149815559387207s\n",
      "INFO:root:level 0 time 2.7987608909606934s\n",
      "INFO:root:fragment[0, 0] gradient sum time 2.1968767642974854s\n",
      "INFO:root:level 1 time 2.8454017639160156s\n",
      "INFO:root:fragment[0, 0] gradient sum time 2.26145601272583s\n",
      "INFO:root:level 2 time 2.992799758911133s\n",
      "INFO:root:fragment[0, 0] gradient sum time 2.4268288612365723s\n",
      "INFO:root:level 3 time 3.318716049194336s\n",
      "INFO:root:epoch 7 time 12.522645950317383s\n",
      "INFO:root:epoch 8 tree_setup time 0.36249709129333496s\n",
      "INFO:root:fragment[0, 0] gradient sum time 2.210975170135498s\n",
      "INFO:root:level 0 time 2.8164844512939453s\n",
      "INFO:root:fragment[0, 0] gradient sum time 2.241140365600586s\n",
      "INFO:root:level 1 time 2.875917434692383s\n",
      "INFO:root:fragment[0, 0] gradient sum time 2.2640819549560547s\n",
      "INFO:root:level 2 time 3.0105466842651367s\n",
      "INFO:root:fragment[0, 0] gradient sum time 2.4064626693725586s\n",
      "INFO:root:level 3 time 3.272611379623413s\n",
      "INFO:root:epoch 8 time 12.552913904190063s\n",
      "INFO:root:epoch 9 tree_setup time 0.3491544723510742s\n",
      "INFO:root:fragment[0, 0] gradient sum time 2.2022600173950195s\n",
      "INFO:root:level 0 time 2.78769850730896s\n",
      "INFO:root:fragment[0, 0] gradient sum time 2.1975364685058594s\n",
      "INFO:root:level 1 time 2.8430142402648926s\n",
      "INFO:root:fragment[0, 0] gradient sum time 2.2958242893218994s\n",
      "INFO:root:level 2 time 3.0346803665161133s\n",
      "INFO:root:fragment[0, 0] gradient sum time 2.4195566177368164s\n",
      "INFO:root:level 3 time 3.307814359664917s\n",
      "INFO:root:epoch 9 time 12.36074709892273s\n",
      "INFO:root:Create proxy actor <class 'secretflow.ml.boost.ss_xgb_v.core.tree_worker.XgbTreeWorker'> with party alice.\n",
      "INFO:root:Create proxy actor <class 'secretflow.ml.boost.ss_xgb_v.core.tree_worker.XgbTreeWorker'> with party bob.\n"
     ]
    },
    {
     "name": "stdout",
     "output_type": "stream",
     "text": [
      "train time: 133.01025390625\n"
     ]
    },
    {
     "name": "stderr",
     "output_type": "stream",
     "text": [
      "INFO:root:Create proxy actor <class 'secretflow.ml.boost.ss_xgb_v.core.tree_worker.XgbTreeWorker'> with party carol.\n"
     ]
    },
    {
     "name": "stdout",
     "output_type": "stream",
     "text": [
      "predict time: 5.3834264278411865\n",
      "\u001B[31m(SS-XGB) auc: 0.8300187063109186\u001B[0m\n"
     ]
    }
   ],
   "execution_count": 86
  },
  {
   "metadata": {
    "ExecuteTime": {
     "end_time": "2024-05-18T11:47:12.217663Z",
     "start_time": "2024-05-18T11:47:11.748279Z"
    }
   },
   "cell_type": "code",
   "source": [
    "\"\"\"\n",
    "Plaintext baseline\n",
    "\"\"\"\n",
    "\n",
    "import xgboost as SKxgb\n",
    "\n",
    "params = {\n",
    "    # <<< !!! >>> change args to your test settings.\n",
    "    # for more detail, see Xgb.train.__doc__\n",
    "    \"n_estimators\": 10,\n",
    "    \"max_depth\": 4,\n",
    "    'eval_metric': 'auc',\n",
    "    \"learning_rate\": 0.05,\n",
    "    \"sketch_eps\": 0.05,\n",
    "    \"objective\": \"binary:logistic\",\n",
    "    \"reg_lambda\": 1,\n",
    "    \"subsample\": 0.75,\n",
    "    \"colsample_by_tree\": 1,\n",
    "    \"base_score\": 0.5,\n",
    "}\n",
    "dtrain = SKxgb.DMatrix(X_train_plaintext, label=y_train_plaintext)\n",
    "bst = SKxgb.train(params, dtrain, params[\"n_estimators\"])\n",
    "dtest = SKxgb.DMatrix(X_test_plaintext)\n",
    "y_pred = bst.predict(dtest)\n",
    "print(f\"\\033[31m(Sklearn-XGB) auc: {roc_auc_score(y_test_plaintext, y_pred)}\\033[0m\")"
   ],
   "id": "626704d9454432ed",
   "outputs": [
    {
     "name": "stdout",
     "output_type": "stream",
     "text": [
      "[11:47:11] WARNING: ../src/learner.cc:767: \n",
      "Parameters: { \"colsample_by_tree\", \"n_estimators\", \"sketch_eps\" } are not used.\n",
      "\n",
      "\u001B[31m(Sklearn-XGB) auc: 0.8254717179596572\u001B[0m\n"
     ]
    }
   ],
   "execution_count": 88
  },
  {
   "metadata": {},
   "cell_type": "markdown",
   "source": [
    "# The End\n",
    "显示地调用sf.shutdown()关闭实例化的集群。 > 注意：如果是在.py文件中运行代码，不需要显示地执行shutdown，在程序进程运行结束后会隐式地执行shutdown函数。"
   ],
   "id": "2adbfb46ea4bc357"
  },
  {
   "metadata": {
    "ExecuteTime": {
     "end_time": "2024-05-18T11:49:52.093002Z",
     "start_time": "2024-05-18T11:49:49.476987Z"
    }
   },
   "cell_type": "code",
   "source": "sf.shutdown()",
   "id": "5f697c66e6ef2ec0",
   "outputs": [],
   "execution_count": 89
  }
 ],
 "metadata": {
  "kernelspec": {
   "display_name": "Python 3",
   "language": "python",
   "name": "python3"
  },
  "language_info": {
   "codemirror_mode": {
    "name": "ipython",
    "version": 2
   },
   "file_extension": ".py",
   "mimetype": "text/x-python",
   "name": "python",
   "nbconvert_exporter": "python",
   "pygments_lexer": "ipython2",
   "version": "2.7.6"
  }
 },
 "nbformat": 4,
 "nbformat_minor": 5
}
