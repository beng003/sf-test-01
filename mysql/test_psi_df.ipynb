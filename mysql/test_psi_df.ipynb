{
 "cells": [
  {
   "cell_type": "code",
   "execution_count": 1,
   "metadata": {},
   "outputs": [
    {
     "name": "stdout",
     "output_type": "stream",
     "text": [
      "The version of SecretFlow: 1.8.0b0\n"
     ]
    },
    {
     "name": "stderr",
     "output_type": "stream",
     "text": [
      "/mnt/users/beng003/anaconda3/envs/sf/lib/python3.10/subprocess.py:1796: RuntimeWarning: os.fork() was called. os.fork() is incompatible with multithreaded code, and JAX is multithreaded, so this will likely lead to a deadlock.\n",
      "  self.pid = _posixsubprocess.fork_exec(\n",
      "2024-08-19 19:59:25,478\tINFO worker.py:1724 -- Started a local Ray instance.\n"
     ]
    },
    {
     "data": {
      "text/plain": [
       "[<secretflow.device.device.pyu.PYUObject at 0x7f98dbfe1420>,\n",
       " <secretflow.device.device.pyu.PYUObject at 0x7f98dbfe14b0>]"
      ]
     },
     "execution_count": 1,
     "metadata": {},
     "output_type": "execute_result"
    },
    {
     "name": "stdout",
     "output_type": "stream",
     "text": [
      "\u001b[36m(SPURuntime(device_id=None, party=alice) pid=349336)\u001b[0m [2024-08-19 19:59:28.888] [info] [launch.cc:164] LEGACY PSI config: {\"psi_type\":\"KKRT_PSI_2PC\",\"broadcast_result\":true,\"input_params\":{\"path\":\"/tmp/tmpmzu663qk/psi-input.csv\",\"select_fields\":[\"uid\"],\"precheck\":true},\"output_params\":{\"path\":\"/tmp/tmpmzu663qk/psi-output.csv\",\"need_sort\":true},\"curve_type\":\"CURVE_25519\",\"bucket_size\":1048576}\n",
      "\u001b[36m(SPURuntime(device_id=None, party=alice) pid=349336)\u001b[0m [2024-08-19 19:59:28.888] [info] [bucket_psi.cc:400] bucket size set to 1048576\n",
      "\u001b[36m(SPURuntime(device_id=None, party=alice) pid=349336)\u001b[0m [2024-08-19 19:59:28.888] [info] [bucket_psi.cc:252] Begin sanity check for input file: /tmp/tmpmzu663qk/psi-input.csv, precheck_switch:true\n",
      "\u001b[36m(SPURuntime(device_id=None, party=alice) pid=349336)\u001b[0m [2024-08-19 19:59:28.890] [info] [csv_checker.cc:135] Executing duplicated scripts: LC_ALL=C sort --parallel=8 --buffer-size=1G --stable selected-keys.f0d08efd-e850-439b-bb52-6f5e4ed29ed3 | LC_ALL=C uniq -d > duplicate-keys.f0d08efd-e850-439b-bb52-6f5e4ed29ed3\n",
      "\u001b[36m(SPURuntime(device_id=None, party=alice) pid=349336)\u001b[0m [2024-08-19 19:59:28.892] [info] [bucket_psi.cc:265] End sanity check for input file: /tmp/tmpmzu663qk/psi-input.csv, size=20\n",
      "\u001b[36m(SPURuntime(device_id=None, party=alice) pid=349336)\u001b[0m [2024-08-19 19:59:28.893] [info] [bucket_psi.cc:427] Run psi protocol=2, self_items_count=20\n",
      "\u001b[36m(SPURuntime(device_id=None, party=alice) pid=349336)\u001b[0m [2024-08-19 19:59:28.893] [info] [bucket_psi.cc:516] psi protocol=2, rank=0 item_size=20\n",
      "\u001b[36m(SPURuntime(device_id=None, party=alice) pid=349336)\u001b[0m [2024-08-19 19:59:28.893] [info] [bucket_psi.cc:516] psi protocol=2, rank=1 item_size=20\n",
      "\u001b[36m(SPURuntime(device_id=None, party=alice) pid=349336)\u001b[0m [2024-08-19 19:59:28.893] [info] [bucket_psi.cc:541] psi protocol=2, bucket_count=1\n",
      "\u001b[36m(SPURuntime(device_id=None, party=alice) pid=349336)\u001b[0m [2024-08-19 19:59:28.893] [info] [arrow_csv_batch_provider.cc:75] Reach the end of csv file /tmp/tmpmzu663qk/psi-input.csv.\n",
      "\u001b[36m(SPURuntime(device_id=None, party=alice) pid=349336)\u001b[0m [2024-08-19 19:59:28.893] [info] [arrow_csv_batch_provider.cc:75] Reach the end of csv file /tmp/tmpmzu663qk/psi-input.csv.\n",
      "\u001b[36m(SPURuntime(device_id=None, party=alice) pid=349336)\u001b[0m [2024-08-19 19:59:28.893] [info] [bucket_psi.cc:553] run psi bucket_idx=0, bucket_item_size=20 \n",
      "\u001b[36m(SPURuntime(device_id=None, party=alice) pid=349336)\u001b[0m [2024-08-19 19:59:28.894] [info] [memory_psi.cc:67] psi protocol=2, rank=0, inputs_size=20\n",
      "\u001b[36m(SPURuntime(device_id=None, party=alice) pid=349336)\u001b[0m [2024-08-19 19:59:28.894] [info] [memory_psi.cc:67] psi protocol=2, rank=1, inputs_size=20\n",
      "\u001b[36m(SPURuntime(device_id=None, party=alice) pid=349336)\u001b[0m [2024-08-19 19:59:28.894] [info] [thread_pool.cc:30] Create a fixed thread pool with size 7\n",
      "\u001b[36m(SPURuntime(device_id=None, party=alice) pid=349336)\u001b[0m [2024-08-19 19:59:28.925] [info] [bucket_psi.cc:564] psi protocol=2, result_size=10\n",
      "\u001b[36m(SPURuntime(device_id=None, party=alice) pid=349336)\u001b[0m [2024-08-19 19:59:28.925] [info] [bucket_psi.cc:382] Begin post filtering, indices.size=10, should_sort=true\n",
      "\u001b[36m(SPURuntime(device_id=None, party=alice) pid=349336)\u001b[0m [2024-08-19 19:59:28.925] [info] [key.cc:91] Executing sort scripts: tail -n +2 /tmp/tmpmzu663qk/tmp-sort-in-fe72b423-23ef-4019-9c28-468fdd91ccd7 | LC_ALL=C sort  --parallel=8 --buffer-size=1G --stable --field-separator=, --key=4,4  >>/tmp/tmpmzu663qk/tmp-sort-out-fe72b423-23ef-4019-9c28-468fdd91ccd7\n",
      "\u001b[36m(SPURuntime(device_id=None, party=alice) pid=349336)\u001b[0m [2024-08-19 19:59:28.927] [info] [key.cc:93] Finished sort scripts: tail -n +2 /tmp/tmpmzu663qk/tmp-sort-in-fe72b423-23ef-4019-9c28-468fdd91ccd7 | LC_ALL=C sort  --parallel=8 --buffer-size=1G --stable --field-separator=, --key=4,4  >>/tmp/tmpmzu663qk/tmp-sort-out-fe72b423-23ef-4019-9c28-468fdd91ccd7, ret=0\n",
      "\u001b[36m(SPURuntime(device_id=None, party=alice) pid=349336)\u001b[0m [2024-08-19 19:59:28.927] [info] [bucket_psi.cc:390] End post filtering, in=/tmp/tmpmzu663qk/psi-input.csv, out=/tmp/tmpmzu663qk/psi-output.csv\n"
     ]
    }
   ],
   "source": [
    "import pymysql\n",
    "import numpy as np\n",
    "import pandas as pd\n",
    "\n",
    "\n",
    "def connect_to_mysql_and_read_data(\n",
    "    database_name, table_name, host=\"localhost\", user=\"beng003\", password=\"12341234\"\n",
    "):\n",
    "    connection = None\n",
    "    try:\n",
    "        connection = pymysql.connect(\n",
    "            host=host,\n",
    "            user=user,\n",
    "            password=password,\n",
    "            database=database_name,\n",
    "        )\n",
    "\n",
    "        with connection.cursor() as cursor:\n",
    "\n",
    "            cursor.execute(f\"SELECT * FROM {table_name};\")\n",
    "            rows = cursor.fetchall()\n",
    "            columns = [desc[0] for desc in cursor.description]\n",
    "\n",
    "        return pd.DataFrame(rows, columns=columns)\n",
    "\n",
    "    except pymysql.MySQLError as e:\n",
    "        print(\"错误：\", e)\n",
    "    finally:\n",
    "        if connection:\n",
    "            connection.close()\n",
    "\n",
    "\n",
    "import secretflow as sf\n",
    "\n",
    "# Check the version of your SecretFlow\n",
    "print(\"The version of SecretFlow: {}\".format(sf.__version__))\n",
    "\n",
    "# In case you have a running secretflow runtime already.\n",
    "sf.shutdown()\n",
    "\n",
    "sf.init([\"alice\", \"bob\"], address=\"local\")\n",
    "spu_config = sf.utils.testing.cluster_def(parties=[\"alice\", \"bob\"])\n",
    "spu_device = sf.SPU(spu_config)\n",
    "alice, bob = sf.PYU(\"alice\"), sf.PYU(\"bob\")\n",
    "\n",
    "v_alice = alice(connect_to_mysql_and_read_data)(\n",
    "    database_name=\"alice_database\", table_name=\"alice_iris\"\n",
    ")\n",
    "v_bob = bob(connect_to_mysql_and_read_data)(\n",
    "    database_name=\"bob_database\", table_name=\"bob_iris\"\n",
    ")\n",
    "\n",
    "# print(v_alice)\n",
    "# print(sf.reveal(v_alice))\n",
    "\n",
    "ab_psi = spu_device.psi_df(\n",
    "    key=\"uid\",\n",
    "    dfs=[v_alice, v_bob],\n",
    "    receiver=\"alice\",\n",
    ")\n",
    "ab_psi"
   ]
  },
  {
   "cell_type": "code",
   "execution_count": 5,
   "metadata": {},
   "outputs": [
    {
     "data": {
      "text/plain": [
       "2"
      ]
     },
     "execution_count": 5,
     "metadata": {},
     "output_type": "execute_result"
    }
   ],
   "source": [
    "spu_device.world_size"
   ]
  },
  {
   "cell_type": "code",
   "execution_count": 39,
   "metadata": {},
   "outputs": [
    {
     "data": {
      "text/plain": [
       "PYURuntime(alice)"
      ]
     },
     "execution_count": 39,
     "metadata": {},
     "output_type": "execute_result"
    }
   ],
   "source": [
    "ab_psi[0].device"
   ]
  },
  {
   "cell_type": "code",
   "execution_count": 40,
   "metadata": {},
   "outputs": [
    {
     "data": {
      "text/html": [
       "<div>\n",
       "<style scoped>\n",
       "    .dataframe tbody tr th:only-of-type {\n",
       "        vertical-align: middle;\n",
       "    }\n",
       "\n",
       "    .dataframe tbody tr th {\n",
       "        vertical-align: top;\n",
       "    }\n",
       "\n",
       "    .dataframe thead th {\n",
       "        text-align: right;\n",
       "    }\n",
       "</style>\n",
       "<table border=\"1\" class=\"dataframe\">\n",
       "  <thead>\n",
       "    <tr style=\"text-align: right;\">\n",
       "      <th></th>\n",
       "      <th>sepal_length_cm</th>\n",
       "      <th>sepal_width_cm</th>\n",
       "      <th>petal_length_cm</th>\n",
       "      <th>uid</th>\n",
       "    </tr>\n",
       "  </thead>\n",
       "  <tbody>\n",
       "    <tr>\n",
       "      <th>0</th>\n",
       "      <td>5.4</td>\n",
       "      <td>3.7</td>\n",
       "      <td>1.5</td>\n",
       "      <td>10</td>\n",
       "    </tr>\n",
       "    <tr>\n",
       "      <th>1</th>\n",
       "      <td>4.8</td>\n",
       "      <td>3.4</td>\n",
       "      <td>1.6</td>\n",
       "      <td>11</td>\n",
       "    </tr>\n",
       "    <tr>\n",
       "      <th>2</th>\n",
       "      <td>4.8</td>\n",
       "      <td>3.0</td>\n",
       "      <td>1.4</td>\n",
       "      <td>12</td>\n",
       "    </tr>\n",
       "    <tr>\n",
       "      <th>3</th>\n",
       "      <td>4.3</td>\n",
       "      <td>3.0</td>\n",
       "      <td>1.1</td>\n",
       "      <td>13</td>\n",
       "    </tr>\n",
       "    <tr>\n",
       "      <th>4</th>\n",
       "      <td>5.8</td>\n",
       "      <td>4.0</td>\n",
       "      <td>1.2</td>\n",
       "      <td>14</td>\n",
       "    </tr>\n",
       "    <tr>\n",
       "      <th>5</th>\n",
       "      <td>5.7</td>\n",
       "      <td>4.4</td>\n",
       "      <td>1.5</td>\n",
       "      <td>15</td>\n",
       "    </tr>\n",
       "    <tr>\n",
       "      <th>6</th>\n",
       "      <td>5.4</td>\n",
       "      <td>3.9</td>\n",
       "      <td>1.3</td>\n",
       "      <td>16</td>\n",
       "    </tr>\n",
       "    <tr>\n",
       "      <th>7</th>\n",
       "      <td>5.1</td>\n",
       "      <td>3.5</td>\n",
       "      <td>1.4</td>\n",
       "      <td>17</td>\n",
       "    </tr>\n",
       "    <tr>\n",
       "      <th>8</th>\n",
       "      <td>5.7</td>\n",
       "      <td>3.8</td>\n",
       "      <td>1.7</td>\n",
       "      <td>18</td>\n",
       "    </tr>\n",
       "    <tr>\n",
       "      <th>9</th>\n",
       "      <td>5.1</td>\n",
       "      <td>3.8</td>\n",
       "      <td>1.5</td>\n",
       "      <td>19</td>\n",
       "    </tr>\n",
       "  </tbody>\n",
       "</table>\n",
       "</div>"
      ],
      "text/plain": [
       "   sepal_length_cm  sepal_width_cm  petal_length_cm  uid\n",
       "0              5.4             3.7              1.5   10\n",
       "1              4.8             3.4              1.6   11\n",
       "2              4.8             3.0              1.4   12\n",
       "3              4.3             3.0              1.1   13\n",
       "4              5.8             4.0              1.2   14\n",
       "5              5.7             4.4              1.5   15\n",
       "6              5.4             3.9              1.3   16\n",
       "7              5.1             3.5              1.4   17\n",
       "8              5.7             3.8              1.7   18\n",
       "9              5.1             3.8              1.5   19"
      ]
     },
     "execution_count": 40,
     "metadata": {},
     "output_type": "execute_result"
    }
   ],
   "source": [
    "sf.reveal(ab_psi[0])"
   ]
  },
  {
   "cell_type": "code",
   "execution_count": 20,
   "metadata": {},
   "outputs": [
    {
     "data": {
      "text/html": [
       "<div>\n",
       "<style scoped>\n",
       "    .dataframe tbody tr th:only-of-type {\n",
       "        vertical-align: middle;\n",
       "    }\n",
       "\n",
       "    .dataframe tbody tr th {\n",
       "        vertical-align: top;\n",
       "    }\n",
       "\n",
       "    .dataframe thead th {\n",
       "        text-align: right;\n",
       "    }\n",
       "</style>\n",
       "<table border=\"1\" class=\"dataframe\">\n",
       "  <thead>\n",
       "    <tr style=\"text-align: right;\">\n",
       "      <th></th>\n",
       "      <th>petal_width_cm</th>\n",
       "      <th>target</th>\n",
       "      <th>uid</th>\n",
       "    </tr>\n",
       "  </thead>\n",
       "  <tbody>\n",
       "    <tr>\n",
       "      <th>0</th>\n",
       "      <td>0.2</td>\n",
       "      <td>0</td>\n",
       "      <td>10</td>\n",
       "    </tr>\n",
       "    <tr>\n",
       "      <th>1</th>\n",
       "      <td>0.2</td>\n",
       "      <td>0</td>\n",
       "      <td>11</td>\n",
       "    </tr>\n",
       "    <tr>\n",
       "      <th>2</th>\n",
       "      <td>0.1</td>\n",
       "      <td>0</td>\n",
       "      <td>12</td>\n",
       "    </tr>\n",
       "    <tr>\n",
       "      <th>3</th>\n",
       "      <td>0.1</td>\n",
       "      <td>0</td>\n",
       "      <td>13</td>\n",
       "    </tr>\n",
       "    <tr>\n",
       "      <th>4</th>\n",
       "      <td>0.2</td>\n",
       "      <td>0</td>\n",
       "      <td>14</td>\n",
       "    </tr>\n",
       "    <tr>\n",
       "      <th>5</th>\n",
       "      <td>0.4</td>\n",
       "      <td>0</td>\n",
       "      <td>15</td>\n",
       "    </tr>\n",
       "    <tr>\n",
       "      <th>6</th>\n",
       "      <td>0.4</td>\n",
       "      <td>0</td>\n",
       "      <td>16</td>\n",
       "    </tr>\n",
       "    <tr>\n",
       "      <th>7</th>\n",
       "      <td>0.3</td>\n",
       "      <td>0</td>\n",
       "      <td>17</td>\n",
       "    </tr>\n",
       "    <tr>\n",
       "      <th>8</th>\n",
       "      <td>0.3</td>\n",
       "      <td>0</td>\n",
       "      <td>18</td>\n",
       "    </tr>\n",
       "    <tr>\n",
       "      <th>9</th>\n",
       "      <td>0.3</td>\n",
       "      <td>0</td>\n",
       "      <td>19</td>\n",
       "    </tr>\n",
       "  </tbody>\n",
       "</table>\n",
       "</div>"
      ],
      "text/plain": [
       "   petal_width_cm  target  uid\n",
       "0             0.2       0   10\n",
       "1             0.2       0   11\n",
       "2             0.1       0   12\n",
       "3             0.1       0   13\n",
       "4             0.2       0   14\n",
       "5             0.4       0   15\n",
       "6             0.4       0   16\n",
       "7             0.3       0   17\n",
       "8             0.3       0   18\n",
       "9             0.3       0   19"
      ]
     },
     "execution_count": 20,
     "metadata": {},
     "output_type": "execute_result"
    }
   ],
   "source": [
    "sf.reveal(ab_psi[1])"
   ]
  },
  {
   "cell_type": "code",
   "execution_count": 34,
   "metadata": {},
   "outputs": [
    {
     "name": "stderr",
     "output_type": "stream",
     "text": [
      "WARNING:root:To create a Partitoin, we suggest to use function source.\n",
      "INFO:root:Create proxy actor <class 'secretflow.device.proxy.ActorPartitionAgent'> with party alice.\n",
      "WARNING:root:To create a Partitoin, we suggest to use function source.\n",
      "INFO:root:Create proxy actor <class 'secretflow.device.proxy.ActorPartitionAgent'> with party bob.\n"
     ]
    }
   ],
   "source": [
    "from secretflow.data.core import partition\n",
    "from secretflow.data.core.io import read_csv_wrapper\n",
    "from typing import Callable, Dict, List, Union\n",
    "from secretflow.device import PYU, SPU, Device\n",
    "from secretflow.utils.errors import InvalidArgumentError\n",
    "from secretflow.utils.random import global_random\n",
    "from secretflow.data.vertical.dataframe import VDataFrame\n",
    "\n",
    "\n",
    "def get_keys(\n",
    "    device: Device, x: Union[str, List[str], Dict[Device, List[str]]] = None\n",
    ") -> List[str]:\n",
    "    if x:\n",
    "        if isinstance(x, str):\n",
    "            return [x]\n",
    "        elif isinstance(x, List):\n",
    "            return x\n",
    "        elif isinstance(x, Dict):\n",
    "            if device in x:\n",
    "                if isinstance(x[device], str):\n",
    "                    return [x[device]]\n",
    "                else:\n",
    "                    return x[device]\n",
    "        else:\n",
    "            raise InvalidArgumentError(f\"Illegal type for keys,got {type(x)}\")\n",
    "    else:\n",
    "        return []\n",
    "\n",
    "\n",
    "# filepath_actual = output_path\n",
    "\n",
    "# note:默认可以不设置的参数都\n",
    "converters = None\n",
    "dtypes = None\n",
    "usecols = None\n",
    "no_header = False\n",
    "backend = \"pandas\"\n",
    "delimiter = \",\"\n",
    "nrows: int = None\n",
    "skip_rows_after_header: int = None\n",
    "keys = \"uid\"\n",
    "drop_keys = \"uid\"\n",
    "\n",
    "partitions = {}\n",
    "for device_pyu in ab_psi:\n",
    "    converter = converters[device_pyu.device] if converters is not None else None\n",
    "    dtype = dtypes[device_pyu.device] if dtypes is not None else None\n",
    "    usecol = usecols[device_pyu.device] if usecols is not None else None\n",
    "\n",
    "    if usecol is None and dtype is not None:\n",
    "        usecol = dtype.keys()\n",
    "\n",
    "    if no_header:\n",
    "        assert usecol is None, \"can not use usecol when no_header is True\"\n",
    "\n",
    "    partitions[device_pyu.device] = partition(\n",
    "        data=device_pyu,\n",
    "        device=device_pyu.device,\n",
    "        backend=backend,\n",
    "        filepath=\"\",\n",
    "        auto_gen_header_prefix=str(device_pyu.device) if no_header else \"\",\n",
    "        delimiter=delimiter,\n",
    "        usecols=usecol,\n",
    "        dtype=dtype,\n",
    "        converters=converter,\n",
    "        read_backend=backend,\n",
    "        nrows=nrows,\n",
    "        skip_rows_after_header=skip_rows_after_header,\n",
    "    )\n",
    "if drop_keys:\n",
    "    for device, part in partitions.items():\n",
    "        device_drop_key = get_keys(device, drop_keys)\n",
    "        device_psi_key = get_keys(device, keys)\n",
    "\n",
    "        if device_drop_key is not None:\n",
    "            columns_set = set(part.columns)\n",
    "            device_drop_key_set = set(device_drop_key)\n",
    "            assert columns_set.issuperset(device_drop_key_set), (\n",
    "                f\"drop_keys = {device_drop_key_set.difference(columns_set)}\"\n",
    "                \" can not find on device {device}\"\n",
    "            )\n",
    "\n",
    "            device_psi_key_set = set(device_psi_key)\n",
    "            assert device_psi_key_set.issuperset(device_drop_key_set), (\n",
    "                f\"drop_keys = {device_drop_key_set.difference(device_psi_key_set)} \"\n",
    "                f\"can not find on device_psi_key_set of device {device},\"\n",
    "                f\" which are {device_psi_key_set}\"\n",
    "            )\n",
    "\n",
    "            partitions[device] = part.drop(columns=device_drop_key)\n",
    "\n",
    "unique_cols = set()\n",
    "\n",
    "# data columns must be unique across all devices\n",
    "if len(partitions):\n",
    "    parties_length = {}\n",
    "    for device, part in partitions.items():\n",
    "        parties_length[device.party] = len(part)\n",
    "    if len(set(parties_length.values())) > 1:\n",
    "        raise AssertionError(\n",
    "            f\"number of samples must be equal across all devices, got {parties_length}, \"\n",
    "            # f\"input uri {filepath_actual}\"\n",
    "        )\n",
    "\n",
    "for device, part in partitions.items():\n",
    "    for col in part.columns:\n",
    "        assert col not in unique_cols, f\"col {col} duplicate in multiple devices\"\n",
    "        unique_cols.add(col)\n",
    "\n",
    "vdf = VDataFrame(partitions)\n",
    "\n"
   ]
  },
  {
   "cell_type": "code",
   "execution_count": 35,
   "metadata": {},
   "outputs": [
    {
     "data": {
      "text/plain": [
       "['sepal_length_cm',\n",
       " 'sepal_width_cm',\n",
       " 'petal_length_cm',\n",
       " 'petal_width_cm',\n",
       " 'target']"
      ]
     },
     "execution_count": 35,
     "metadata": {},
     "output_type": "execute_result"
    }
   ],
   "source": [
    "vdf.columns"
   ]
  },
  {
   "cell_type": "code",
   "execution_count": 36,
   "metadata": {},
   "outputs": [
    {
     "data": {
      "text/plain": [
       "sepal_length_cm    5.21\n",
       "sepal_width_cm     3.65\n",
       "petal_length_cm    1.42\n",
       "petal_width_cm     0.25\n",
       "target             0.00\n",
       "dtype: float64"
      ]
     },
     "execution_count": 36,
     "metadata": {},
     "output_type": "execute_result"
    }
   ],
   "source": [
    "vdf.mean()"
   ]
  },
  {
   "cell_type": "code",
   "execution_count": 37,
   "metadata": {},
   "outputs": [
    {
     "name": "stdout",
     "output_type": "stream",
     "text": [
      "**********Alice PSI\n",
      "VDataFrame(partitions={PYURuntime(alice): <secretflow.data.core.partition.Partition object at 0x7f276812e620>, PYURuntime(bob): <secretflow.data.core.partition.Partition object at 0x7f275421e170>}, aligned=True)\n",
      "(10, 5)\n",
      "VDataFrame(partitions={PYURuntime(alice): <secretflow.data.core.partition.Partition object at 0x7f276812e620>, PYURuntime(bob): <secretflow.data.core.partition.Partition object at 0x7f275421e170>}, aligned=True)\n",
      "VDataFrame(partitions={PYURuntime(alice): <secretflow.data.core.partition.Partition object at 0x7f276812e620>, PYURuntime(bob): <secretflow.data.core.partition.Partition object at 0x7f275421e170>}, aligned=True)\n"
     ]
    }
   ],
   "source": [
    "print(\"**********Alice PSI\")\n",
    "print(vdf)\n",
    "print(vdf.shape)\n",
    "print(sf.reveal(vdf))\n",
    "print(sf.reveal(vdf))"
   ]
  },
  {
   "cell_type": "code",
   "execution_count": 25,
   "metadata": {},
   "outputs": [],
   "source": [
    "sf.shutdown()"
   ]
  }
 ],
 "metadata": {
  "kernelspec": {
   "display_name": "sf",
   "language": "python",
   "name": "python3"
  },
  "language_info": {
   "codemirror_mode": {
    "name": "ipython",
    "version": 3
   },
   "file_extension": ".py",
   "mimetype": "text/x-python",
   "name": "python",
   "nbconvert_exporter": "python",
   "pygments_lexer": "ipython3",
   "version": "3.10.14"
  }
 },
 "nbformat": 4,
 "nbformat_minor": 2
}
