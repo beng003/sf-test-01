{
 "cells": [
  {
   "cell_type": "code",
   "execution_count": 2,
   "metadata": {},
   "outputs": [
    {
     "name": "stdout",
     "output_type": "stream",
     "text": [
      "The version of SecretFlow: 1.8.0b0\n"
     ]
    },
    {
     "name": "stderr",
     "output_type": "stream",
     "text": [
      "/home/beng003/anaconda/envs/sf/lib/python3.10/subprocess.py:1796: RuntimeWarning: os.fork() was called. os.fork() is incompatible with multithreaded code, and JAX is multithreaded, so this will likely lead to a deadlock.\n",
      "  self.pid = _posixsubprocess.fork_exec(\n",
      "2024-07-27 18:55:13,569\tINFO worker.py:1724 -- Started a local Ray instance.\n",
      "INFO:root:Create proxy actor <class 'secretflow.device.proxy.Actor_Masker'> with party alice.\n",
      "INFO:root:Create proxy actor <class 'secretflow.device.proxy.Actor_Masker'> with party bob.\n",
      "INFO:root:Create proxy actor <class 'secretflow.device.proxy.ActorPartitionAgent'> with party alice.\n",
      "INFO:root:Create proxy actor <class 'secretflow.device.proxy.ActorPartitionAgent'> with party bob.\n"
     ]
    }
   ],
   "source": [
    "import secretflow as sf\n",
    "\n",
    "# Check the version of your SecretFlow\n",
    "print('The version of SecretFlow: {}'.format(sf.__version__))\n",
    "\n",
    "# In case you have a running secretflow runtime already.\n",
    "sf.shutdown()\n",
    "\n",
    "sf.init(['alice', 'bob', 'charlie'], address='local')\n",
    "alice, bob, charlie = sf.PYU('alice'), sf.PYU('bob'), sf.PYU('charlie')\n",
    "\n",
    "\n",
    "from secretflow.data.horizontal import read_csv\n",
    "from secretflow.security.aggregation import SecureAggregator\n",
    "from secretflow.security.compare import SPUComparator\n",
    "from secretflow.utils.simulation.datasets import load_dermatology\n",
    "\n",
    "aggr = SecureAggregator(charlie, [alice, bob])\n",
    "spu = sf.SPU(sf.utils.testing.cluster_def(['alice', 'bob']))\n",
    "comp = SPUComparator(spu)\n",
    "data = load_dermatology(parts=[alice, bob], aggregator=aggr, comparator=comp)\n",
    "data.fillna(value=0, inplace=True)\n"
   ]
  },
  {
   "cell_type": "code",
   "execution_count": 4,
   "metadata": {},
   "outputs": [
    {
     "data": {
      "text/plain": [
       "{PYURuntime(alice): <secretflow.data.core.partition.Partition at 0x7f9c0e6c8550>,\n",
       " PYURuntime(bob): <secretflow.data.core.partition.Partition at 0x7f9c0e6cbc40>}"
      ]
     },
     "execution_count": 4,
     "metadata": {},
     "output_type": "execute_result"
    }
   ],
   "source": [
    "sf.reveal(data.partitions)"
   ]
  },
  {
   "cell_type": "code",
   "execution_count": 7,
   "metadata": {},
   "outputs": [
    {
     "name": "stderr",
     "output_type": "stream",
     "text": [
      "INFO:root:Create proxy actor <class 'secretflow.device.proxy.ActorHomoBooster'> with party alice.\n",
      "INFO:root:Create proxy actor <class 'secretflow.device.proxy.ActorHomoBooster'> with party bob.\n",
      "INFO:root:Create proxy actor <class 'secretflow.device.proxy.ActorHomoBooster'> with party charlie.\n",
      "INFO:root:Create proxy actor <class 'abc.ActorHomoBinningBase'> with party alice.\n",
      "INFO:root:Create proxy actor <class 'abc.ActorHomoBinningBase'> with party bob.\n",
      "INFO:root:start recursive\n"
     ]
    },
    {
     "name": "stderr",
     "output_type": "stream",
     "text": [
      "\u001b[36m(_run pid=3019196)\u001b[0m INFO:jax._src.xla_bridge:Unable to initialize backend 'cuda': \n",
      "\u001b[36m(_run pid=3019196)\u001b[0m INFO:jax._src.xla_bridge:Unable to initialize backend 'rocm': module 'jaxlib.xla_extension' has no attribute 'GpuAllocatorConfig'\n",
      "\u001b[36m(_run pid=3019196)\u001b[0m INFO:jax._src.xla_bridge:Unable to initialize backend 'tpu': INTERNAL: Failed to open libtpu.so: libtpu.so: cannot open shared object file: No such file or directory\n"
     ]
    },
    {
     "name": "stdout",
     "output_type": "stream",
     "text": [
      "\u001b[36m(ActorHomoBooster pid=3020198)\u001b[0m [0]\ttrain-merror:0.02186\tvalid-merror:0.02186\n"
     ]
    },
    {
     "name": "stderr",
     "output_type": "stream",
     "text": [
      "\u001b[36m(ActorHomoBooster pid=3020198)\u001b[0m INFO:root:fit for iter_round=0 done\n",
      "\u001b[36m(_run pid=3019195)\u001b[0m INFO:jax._src.xla_bridge:Unable to initialize backend 'cuda': \n",
      "\u001b[36m(_run pid=3019195)\u001b[0m INFO:jax._src.xla_bridge:Unable to initialize backend 'rocm': module 'jaxlib.xla_extension' has no attribute 'GpuAllocatorConfig'\n",
      "\u001b[36m(_run pid=3019195)\u001b[0m INFO:jax._src.xla_bridge:Unable to initialize backend 'tpu': INTERNAL: Failed to open libtpu.so: libtpu.so: cannot open shared object file: No such file or directory\n"
     ]
    },
    {
     "name": "stdout",
     "output_type": "stream",
     "text": [
      "\u001b[36m(ActorHomoBooster pid=3020199)\u001b[0m [4]\ttrain-merror:0.00546\tvalid-merror:0.00546\u001b[32m [repeated 14x across cluster]\u001b[0m\n"
     ]
    },
    {
     "name": "stderr",
     "output_type": "stream",
     "text": [
      "\u001b[36m(ActorHomoBooster pid=3020200)\u001b[0m INFO:root:fit for iter_round=4 done\u001b[32m [repeated 14x across cluster]\u001b[0m\n"
     ]
    },
    {
     "name": "stdout",
     "output_type": "stream",
     "text": [
      "<secretflow.ml.boost.homo_boost.homo_booster.SFXgboost object at 0x7fc5d26613f0>\n"
     ]
    }
   ],
   "source": [
    "\n",
    "params = {\n",
    "    # XGBoost parameter tutorial\n",
    "    # https://xgboost.readthedocs.io/en/latest/parameter.html\n",
    "    'max_depth': 4,  # max depth\n",
    "    'eta': 0.3,  # learning rate\n",
    "    'objective': 'multi:softmax',  # objection function，support \"binary:logistic\",\"reg:logistic\",\"multi:softmax\",\"multi:softprob\",\"reg:squarederror\"\n",
    "    'min_child_weight': 1,  # The minimum value of weight\n",
    "    'lambda': 0.1,  # L2 regularization term on weights (xgb's lambda)\n",
    "    'alpha': 0,  # L1 regularization term on weights (xgb's alpha)\n",
    "    'max_bin': 10,  # Max num of binning\n",
    "    'num_class': 6,  # Only required in multi-class classification\n",
    "    'gamma': 0,  # Same to min_impurity_split,The minimux gain for a split\n",
    "    'subsample': 1.0,  # Subsample rate by rows\n",
    "    'colsample_bytree': 1.0,  # Feature selection rate by tree\n",
    "    'colsample_bylevel': 1.0,  # Feature selection rate by level\n",
    "    'eval_metric': 'merror',  # supported eval metric：\n",
    "    # 1. rmse\n",
    "    # 2. rmsle\n",
    "    # 3. mape\n",
    "    # 4. logloss\n",
    "    # 5. error\n",
    "    # 6. error@t\n",
    "    # 7. merror\n",
    "    # 8. mlogloss\n",
    "    # 9. auc\n",
    "    # 10. aucpr\n",
    "    # Special params in SFXgboost\n",
    "    # Required\n",
    "    'hess_key': 'hess',  # Required, Mark hess columns, optionally choosing a column name that is not in the data set\n",
    "    'grad_key': 'grad',  # Required，Mark grad columns, optionally choosing a column name that is not in the data set\n",
    "    'label_key': 'class',  # Required，ark label columns, optionally choosing a column name that is not in the data set\n",
    "}\n",
    "\n",
    "\n",
    "\n",
    "from secretflow.ml.boost.homo_boost import SFXgboost\n",
    "\n",
    "bst = SFXgboost(server=charlie, clients=[alice, bob])\n",
    "\n",
    "bst.train(data, data, params=params, num_boost_round=6)\n",
    "\n",
    "sf.shutdown()\n",
    "\n",
    "print(bst)"
   ]
  },
  {
   "cell_type": "code",
   "execution_count": null,
   "metadata": {},
   "outputs": [],
   "source": []
  }
 ],
 "metadata": {
  "kernelspec": {
   "display_name": "sf",
   "language": "python",
   "name": "python3"
  },
  "language_info": {
   "codemirror_mode": {
    "name": "ipython",
    "version": 3
   },
   "file_extension": ".py",
   "mimetype": "text/x-python",
   "name": "python",
   "nbconvert_exporter": "python",
   "pygments_lexer": "ipython3",
   "version": "3.10.14"
  }
 },
 "nbformat": 4,
 "nbformat_minor": 2
}
