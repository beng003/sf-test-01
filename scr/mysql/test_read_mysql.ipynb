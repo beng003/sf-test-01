{
 "cells": [
  {
   "cell_type": "code",
   "execution_count": 1,
   "metadata": {},
   "outputs": [
    {
     "name": "stdout",
     "output_type": "stream",
     "text": [
      "The version of SecretFlow: 1.8.0b0\n"
     ]
    },
    {
     "name": "stderr",
     "output_type": "stream",
     "text": [
      "/mnt/users/beng003/anaconda3/envs/sf/lib/python3.10/subprocess.py:1796: RuntimeWarning: os.fork() was called. os.fork() is incompatible with multithreaded code, and JAX is multithreaded, so this will likely lead to a deadlock.\n",
      "  self.pid = _posixsubprocess.fork_exec(\n",
      "2024-08-19 20:50:16,843\tINFO worker.py:1724 -- Started a local Ray instance.\n",
      "WARNING:root:To create a Partitoin, we suggest to use function source.\n",
      "INFO:root:Create proxy actor <class 'secretflow.device.proxy.ActorPartitionAgent'> with party alice.\n",
      "WARNING:root:To create a Partitoin, we suggest to use function source.\n",
      "INFO:root:Create proxy actor <class 'secretflow.device.proxy.ActorPartitionAgent'> with party bob.\n"
     ]
    },
    {
     "name": "stdout",
     "output_type": "stream",
     "text": [
      "\u001b[36m(SPURuntime(device_id=None, party=alice) pid=359181)\u001b[0m [2024-08-19 20:50:20.485] [info] [launch.cc:164] LEGACY PSI config: {\"psi_type\":\"KKRT_PSI_2PC\",\"broadcast_result\":true,\"input_params\":{\"path\":\"/tmp/tmp1j10dofc/psi-input.csv\",\"select_fields\":[\"uid\"],\"precheck\":true},\"output_params\":{\"path\":\"/tmp/tmp1j10dofc/psi-output.csv\",\"need_sort\":true},\"curve_type\":\"CURVE_25519\",\"bucket_size\":1048576}\n",
      "\u001b[36m(SPURuntime(device_id=None, party=alice) pid=359181)\u001b[0m [2024-08-19 20:50:20.485] [info] [bucket_psi.cc:400] bucket size set to 1048576\n",
      "\u001b[36m(SPURuntime(device_id=None, party=alice) pid=359181)\u001b[0m [2024-08-19 20:50:20.485] [info] [bucket_psi.cc:252] Begin sanity check for input file: /tmp/tmp1j10dofc/psi-input.csv, precheck_switch:true\n",
      "\u001b[36m(SPURuntime(device_id=None, party=alice) pid=359181)\u001b[0m [2024-08-19 20:50:20.487] [info] [csv_checker.cc:135] Executing duplicated scripts: LC_ALL=C sort --parallel=8 --buffer-size=1G --stable selected-keys.5a2965f9-438c-4574-ab36-d206869ea6f2 | LC_ALL=C uniq -d > duplicate-keys.5a2965f9-438c-4574-ab36-d206869ea6f2\n",
      "\u001b[36m(SPURuntime(device_id=None, party=alice) pid=359181)\u001b[0m [2024-08-19 20:50:20.489] [info] [bucket_psi.cc:265] End sanity check for input file: /tmp/tmp1j10dofc/psi-input.csv, size=20\n",
      "\u001b[36m(SPURuntime(device_id=None, party=alice) pid=359181)\u001b[0m [2024-08-19 20:50:20.489] [info] [bucket_psi.cc:427] Run psi protocol=2, self_items_count=20\n",
      "\u001b[36m(SPURuntime(device_id=None, party=alice) pid=359181)\u001b[0m [2024-08-19 20:50:20.489] [info] [bucket_psi.cc:516] psi protocol=2, rank=0 item_size=20\n",
      "\u001b[36m(SPURuntime(device_id=None, party=alice) pid=359181)\u001b[0m [2024-08-19 20:50:20.489] [info] [bucket_psi.cc:516] psi protocol=2, rank=1 item_size=20\n",
      "\u001b[36m(SPURuntime(device_id=None, party=alice) pid=359181)\u001b[0m [2024-08-19 20:50:20.489] [info] [bucket_psi.cc:541] psi protocol=2, bucket_count=1\n",
      "\u001b[36m(SPURuntime(device_id=None, party=alice) pid=359181)\u001b[0m [2024-08-19 20:50:20.490] [info] [arrow_csv_batch_provider.cc:75] Reach the end of csv file /tmp/tmp1j10dofc/psi-input.csv.\n",
      "\u001b[36m(SPURuntime(device_id=None, party=alice) pid=359181)\u001b[0m [2024-08-19 20:50:20.490] [info] [arrow_csv_batch_provider.cc:75] Reach the end of csv file /tmp/tmp1j10dofc/psi-input.csv.\n",
      "\u001b[36m(SPURuntime(device_id=None, party=alice) pid=359181)\u001b[0m [2024-08-19 20:50:20.490] [info] [bucket_psi.cc:553] run psi bucket_idx=0, bucket_item_size=20 \n",
      "\u001b[36m(SPURuntime(device_id=None, party=alice) pid=359181)\u001b[0m [2024-08-19 20:50:20.490] [info] [memory_psi.cc:67] psi protocol=2, rank=0, inputs_size=20\n",
      "\u001b[36m(SPURuntime(device_id=None, party=alice) pid=359181)\u001b[0m [2024-08-19 20:50:20.490] [info] [memory_psi.cc:67] psi protocol=2, rank=1, inputs_size=20\n",
      "\u001b[36m(SPURuntime(device_id=None, party=alice) pid=359181)\u001b[0m [2024-08-19 20:50:20.490] [info] [thread_pool.cc:30] Create a fixed thread pool with size 7\n",
      "\u001b[36m(SPURuntime(device_id=None, party=alice) pid=359181)\u001b[0m [2024-08-19 20:50:20.522] [info] [bucket_psi.cc:564] psi protocol=2, result_size=10\n",
      "\u001b[36m(SPURuntime(device_id=None, party=alice) pid=359181)\u001b[0m [2024-08-19 20:50:20.522] [info] [bucket_psi.cc:382] Begin post filtering, indices.size=10, should_sort=true\n",
      "\u001b[36m(SPURuntime(device_id=None, party=alice) pid=359181)\u001b[0m [2024-08-19 20:50:20.523] [info] [key.cc:91] Executing sort scripts: tail -n +2 /tmp/tmp1j10dofc/tmp-sort-in-f67320c1-6cf5-4fb3-a465-396f0bf75ccf | LC_ALL=C sort  --parallel=8 --buffer-size=1G --stable --field-separator=, --key=4,4  >>/tmp/tmp1j10dofc/tmp-sort-out-f67320c1-6cf5-4fb3-a465-396f0bf75ccf\n",
      "\u001b[36m(SPURuntime(device_id=None, party=alice) pid=359181)\u001b[0m [2024-08-19 20:50:20.525] [info] [key.cc:93] Finished sort scripts: tail -n +2 /tmp/tmp1j10dofc/tmp-sort-in-f67320c1-6cf5-4fb3-a465-396f0bf75ccf | LC_ALL=C sort  --parallel=8 --buffer-size=1G --stable --field-separator=, --key=4,4  >>/tmp/tmp1j10dofc/tmp-sort-out-f67320c1-6cf5-4fb3-a465-396f0bf75ccf, ret=0\n",
      "\u001b[36m(SPURuntime(device_id=None, party=alice) pid=359181)\u001b[0m [2024-08-19 20:50:20.525] [info] [bucket_psi.cc:390] End post filtering, in=/tmp/tmp1j10dofc/psi-input.csv, out=/tmp/tmp1j10dofc/psi-output.csv\n",
      "VDataFrame(partitions={PYURuntime(alice): <secretflow.data.core.partition.Partition object at 0x7fdd025d3640>, PYURuntime(bob): <secretflow.data.core.partition.Partition object at 0x7fdd023fdd80>}, aligned=True)\n"
     ]
    }
   ],
   "source": [
    "from read_mysql import read_mysql\n",
    "\n",
    "import secretflow as sf\n",
    "\n",
    "# Check the version of your SecretFlow\n",
    "print(\"The version of SecretFlow: {}\".format(sf.__version__))\n",
    "\n",
    "# In case you have a running secretflow runtime already.\n",
    "sf.shutdown()\n",
    "\n",
    "sf.init([\"alice\", \"bob\"], address=\"local\")\n",
    "spu_config = sf.utils.testing.cluster_def(parties=[\"alice\", \"bob\"])\n",
    "spu_device = sf.SPU(spu_config)\n",
    "alice, bob = sf.PYU(\"alice\"), sf.PYU(\"bob\")\n",
    "\n",
    "filepath = {\n",
    "    alice: {\"database_name\": \"alice_database\", \"table_name\": \"alice_iris\"},\n",
    "    bob: {\"database_name\": \"bob_database\", \"table_name\": \"bob_iris\"},\n",
    "}\n",
    "\n",
    "vdf = read_mysql(filepath, spu_device, keys=\"uid\", drop_keys=\"uid\")\n",
    "\n",
    "print(vdf)"
   ]
  },
  {
   "cell_type": "code",
   "execution_count": 4,
   "metadata": {},
   "outputs": [
    {
     "data": {
      "text/plain": [
       "VDataFrame(partitions={PYURuntime(alice): <secretflow.data.core.partition.Partition object at 0x7fdd025d3640>, PYURuntime(bob): <secretflow.data.core.partition.Partition object at 0x7fdd023fdd80>}, aligned=True)"
      ]
     },
     "execution_count": 4,
     "metadata": {},
     "output_type": "execute_result"
    }
   ],
   "source": [
    "vdf"
   ]
  },
  {
   "cell_type": "code",
   "execution_count": 5,
   "metadata": {},
   "outputs": [
    {
     "data": {
      "text/plain": [
       "['sepal_length_cm',\n",
       " 'sepal_width_cm',\n",
       " 'petal_length_cm',\n",
       " 'petal_width_cm',\n",
       " 'target']"
      ]
     },
     "execution_count": 5,
     "metadata": {},
     "output_type": "execute_result"
    }
   ],
   "source": [
    "vdf.columns"
   ]
  },
  {
   "cell_type": "code",
   "execution_count": null,
   "metadata": {},
   "outputs": [],
   "source": [
    "sf.shutdown()"
   ]
  }
 ],
 "metadata": {
  "kernelspec": {
   "display_name": "sf",
   "language": "python",
   "name": "python3"
  },
  "language_info": {
   "codemirror_mode": {
    "name": "ipython",
    "version": 3
   },
   "file_extension": ".py",
   "mimetype": "text/x-python",
   "name": "python",
   "nbconvert_exporter": "python",
   "pygments_lexer": "ipython3",
   "version": "3.10.14"
  }
 },
 "nbformat": 4,
 "nbformat_minor": 2
}
