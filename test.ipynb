{
 "cells": [
  {
   "metadata": {},
   "cell_type": "markdown",
   "source": "# 1.初始化PYU和SPU",
   "id": "e74109205c89c841"
  },
  {
   "metadata": {
    "ExecuteTime": {
     "end_time": "2024-05-19T09:05:07.858229Z",
     "start_time": "2024-05-19T09:04:59.622670Z"
    }
   },
   "cell_type": "code",
   "source": [
    "import secretflow as sf\n",
    "import spu\n",
    "from secretflow.utils.testing import unused_tcp_port\n",
    "\n",
    "sf.shutdown()\n",
    "# Standalone Mode\n",
    "sf.init(['alice', 'bob', 'carol', 'davy', 'eric'], address='local')\n",
    "alice = sf.PYU('alice')\n",
    "bob = sf.PYU('bob')\n",
    "carol = sf.PYU('carol')\n",
    "\n",
    "aby3_cluster_def = {\n",
    "    'nodes': [\n",
    "        {\n",
    "            'party': 'alice',\n",
    "            'address': f'127.0.0.1:{unused_tcp_port()}',\n",
    "        },\n",
    "        {\n",
    "            'party': 'bob',\n",
    "            # 'id': 'local:1', \n",
    "            'address': f'127.0.0.1:{unused_tcp_port()}'},\n",
    "        {\n",
    "            'party': 'carol',\n",
    "            'address': f'127.0.0.1:{unused_tcp_port()}',\n",
    "        },\n",
    "    ],\n",
    "    'runtime_config': {\n",
    "        'protocol': spu.spu_pb2.ABY3,\n",
    "        'field': spu.spu_pb2.FM64,\n",
    "    },\n",
    "}\n",
    "\n",
    "my_spu = sf.SPU(aby3_cluster_def)"
   ],
   "id": "initial_id",
   "outputs": [
    {
     "name": "stderr",
     "output_type": "stream",
     "text": [
      "2024-05-19 09:05:06,205\tINFO worker.py:1612 -- Started a local Ray instance. View the dashboard at \u001B[1m\u001B[32mhttp://127.0.0.1:8266 \u001B[39m\u001B[22m\n"
     ]
    }
   ],
   "execution_count": 3
  },
  {
   "metadata": {},
   "cell_type": "markdown",
   "source": "# 2.将数据输入PYU",
   "id": "5230b7a5e5968b7b"
  },
  {
   "metadata": {
    "ExecuteTime": {
     "end_time": "2024-05-19T09:05:44.078642Z",
     "start_time": "2024-05-19T09:05:44.061904Z"
    }
   },
   "cell_type": "code",
   "source": [
    "x_plaintext = bank_account = [{'id': 12345, 'deposit': 1000.25}, {'id': 12345, 'deposit': 100000.25}]\n",
    "x_alice_pyu = sf.to(alice, bank_account)\n",
    "x_alice_pyu"
   ],
   "id": "6de7a8c7ef6fe57a",
   "outputs": [
    {
     "data": {
      "text/plain": [
       "<secretflow.device.device.pyu.PYUObject at 0x7f041d5f44f0>"
      ]
     },
     "execution_count": 5,
     "metadata": {},
     "output_type": "execute_result"
    }
   ],
   "execution_count": 5
  },
  {
   "metadata": {},
   "cell_type": "markdown",
   "source": "# 3.PYUObject的操作",
   "id": "649741fc02aca2da"
  },
  {
   "metadata": {
    "ExecuteTime": {
     "end_time": "2024-05-19T09:06:39.851711Z",
     "start_time": "2024-05-19T09:06:39.826967Z"
    }
   },
   "cell_type": "code",
   "source": [
    "def add(x_in, y_in):\n",
    "    return x_in + y_in\n",
    "\n",
    "\n",
    "x_alice_pyu = alice(add)(x_alice_pyu, x_alice_pyu)\n",
    "\n",
    "print(f\"Plaintext Python Object: {x_plaintext}, PYU object: {x_alice_pyu}\")\n",
    "print(f\"Reveal PYU object: {sf.reveal(x_alice_pyu)}\")"
   ],
   "id": "febc75b11915c722",
   "outputs": [
    {
     "name": "stdout",
     "output_type": "stream",
     "text": [
      "Plaintext Python Object: [{'id': 12345, 'deposit': 1000.25}, {'id': 12345, 'deposit': 100000.25}], PYU object: <secretflow.device.device.pyu.PYUObject object at 0x7f03f8c857f0>\n",
      "Reveal PYU object: [{'deposit': 1000.25, 'id': 12345}, {'deposit': 100000.25, 'id': 12345}, {'deposit': 1000.25, 'id': 12345}, {'deposit': 100000.25, 'id': 12345}]\n"
     ]
    }
   ],
   "execution_count": 6
  },
  {
   "metadata": {},
   "cell_type": "markdown",
   "source": "# 4.将数据从PYU输入SPU",
   "id": "bdd1aeefd934215d"
  },
  {
   "metadata": {
    "ExecuteTime": {
     "end_time": "2024-05-19T09:08:33.445822Z",
     "start_time": "2024-05-19T09:08:33.322459Z"
    }
   },
   "cell_type": "code",
   "source": [
    "x_alice_spu = x_alice_pyu.to(my_spu)\n",
    "print(f\"SPU object: {x_alice_spu}\")\n",
    "\n",
    "print(f\"Reveal SPU object: {sf.reveal(x_alice_spu)}\")"
   ],
   "id": "ac3020dab7743f30",
   "outputs": [
    {
     "name": "stdout",
     "output_type": "stream",
     "text": [
      "SPU object: <secretflow.device.device.spu.SPUObject object at 0x7f041d23c4c0>\n",
      "Reveal SPU object: [{'deposit': array(1000.25, dtype=float32), 'id': array(12345, dtype=int32)}, {'deposit': array(100000.25, dtype=float32), 'id': array(12345, dtype=int32)}, {'deposit': array(1000.25, dtype=float32), 'id': array(12345, dtype=int32)}, {'deposit': array(100000.25, dtype=float32), 'id': array(12345, dtype=int32)}]\n"
     ]
    }
   ],
   "execution_count": 7
  },
  {
   "metadata": {},
   "cell_type": "markdown",
   "source": "# 5.SPUObject的操作",
   "id": "77b37a62fac3903d"
  },
  {
   "metadata": {
    "ExecuteTime": {
     "end_time": "2024-05-19T09:09:36.647700Z",
     "start_time": "2024-05-19T09:09:36.584050Z"
    }
   },
   "cell_type": "code",
   "source": [
    "x_alice_spu = my_spu(add)(x_alice_spu, x_alice_spu)\n",
    "\n",
    "print(f\"SPU object: {x_alice_spu}\")\n",
    "print(f\"Reveal SPU object: {sf.reveal(x_alice_spu)}\")"
   ],
   "id": "d14e750651de4446",
   "outputs": [
    {
     "name": "stdout",
     "output_type": "stream",
     "text": [
      "SPU object: <secretflow.device.device.spu.SPUObject object at 0x7f03f8c496d0>\n",
      "Reveal SPU object: [{'deposit': array(1000.25, dtype=float32), 'id': array(12345, dtype=int32)}, {'deposit': array(100000.25, dtype=float32), 'id': array(12345, dtype=int32)}, {'deposit': array(1000.25, dtype=float32), 'id': array(12345, dtype=int32)}, {'deposit': array(100000.25, dtype=float32), 'id': array(12345, dtype=int32)}, {'deposit': array(1000.25, dtype=float32), 'id': array(12345, dtype=int32)}, {'deposit': array(100000.25, dtype=float32), 'id': array(12345, dtype=int32)}, {'deposit': array(1000.25, dtype=float32), 'id': array(12345, dtype=int32)}, {'deposit': array(100000.25, dtype=float32), 'id': array(12345, dtype=int32)}]\n"
     ]
    }
   ],
   "execution_count": 8
  },
  {
   "metadata": {},
   "cell_type": "markdown",
   "source": " # 6.拉格朗日函数插值示例",
   "id": "fb192f45f09d71f8"
  },
  {
   "metadata": {
    "ExecuteTime": {
     "end_time": "2024-05-19T09:10:13.778760Z",
     "start_time": "2024-05-19T09:10:13.761155Z"
    }
   },
   "cell_type": "code",
   "source": [
    "def lagrange_interpolation(x_points, y_points, x):\n",
    "    \"\"\"\n",
    "    使用拉格朗日插值多项式计算插值点的值。\n",
    "\n",
    "    参数:\n",
    "    x_points -- 已知数据点的x坐标列表\n",
    "    y_points -- 已知数据点的y坐标列表\n",
    "    x -- 需要插值的点的x坐标\n",
    "\n",
    "    返回:\n",
    "    插值点的y值\n",
    "    \"\"\"\n",
    "    assert len(x_points) == len(y_points), \"x_points和y_points的长度必须相同\"\n",
    "\n",
    "    def L(k, x):\n",
    "        \"\"\"计算第k个拉格朗日基函数的值\"\"\"\n",
    "        numerator = 1\n",
    "        denominator = 1\n",
    "        for i in range(len(x_points)):\n",
    "            if i != k:\n",
    "                numerator *= (x - x_points[i])\n",
    "                denominator *= (x_points[k] - x_points[i])\n",
    "        return numerator / denominator\n",
    "\n",
    "    y = 0\n",
    "    for k in range(len(y_points)):\n",
    "        y += y_points[k] * L(k, x)\n",
    "\n",
    "    return y\n",
    "\n",
    "\n",
    "# 示例使用\n",
    "x_points = [0, 1, 2]\n",
    "y_points = [1, 3, 2]\n",
    "x = 1.5\n",
    "\n",
    "result = lagrange_interpolation(x_points, y_points, x)\n",
    "print(f\"插值点 ({x}, {result})\")\n"
   ],
   "id": "5b7200ebc8b302ca",
   "outputs": [
    {
     "name": "stdout",
     "output_type": "stream",
     "text": [
      "插值点 (1.5, 2.875)\n"
     ]
    }
   ],
   "execution_count": 9
  },
  {
   "metadata": {
    "ExecuteTime": {
     "end_time": "2024-05-19T09:16:24.685675Z",
     "start_time": "2024-05-19T09:16:24.447115Z"
    }
   },
   "cell_type": "code",
   "source": [
    "x_points_spu = sf.to(alice, x_points).to(my_spu)\n",
    "y_points_spu = sf.to(bob, y_points).to(my_spu)\n",
    "x_spu = sf.to(carol, 1.5).to(my_spu)\n",
    "\n",
    "y_spu = my_spu(lagrange_interpolation)(x_points_spu, y_points_spu, x_spu)\n",
    "\n",
    "print(f\"SPU object: {y_spu}\")\n",
    "print(f\"Reveal SPU object: {sf.reveal(y_spu)}\")"
   ],
   "id": "c83341a147eb9740",
   "outputs": [
    {
     "name": "stdout",
     "output_type": "stream",
     "text": [
      "SPU object: <secretflow.device.device.spu.SPUObject object at 0x7f039c2e9880>\n",
      "Reveal SPU object: 2.8749923706054688\n"
     ]
    }
   ],
   "execution_count": 12
  },
  {
   "metadata": {},
   "cell_type": "markdown",
   "source": "# 7.关闭PYU和SPU",
   "id": "c497ede92ddf1689"
  },
  {
   "metadata": {
    "ExecuteTime": {
     "end_time": "2024-05-19T09:21:34.739858Z",
     "start_time": "2024-05-19T09:21:33.023672Z"
    }
   },
   "cell_type": "code",
   "source": "sf.shutdown()",
   "id": "a0e8aa4557bcdcc5",
   "outputs": [],
   "execution_count": 13
  }
 ],
 "metadata": {
  "kernelspec": {
   "display_name": "Python 3",
   "language": "python",
   "name": "python3"
  },
  "language_info": {
   "codemirror_mode": {
    "name": "ipython",
    "version": 2
   },
   "file_extension": ".py",
   "mimetype": "text/x-python",
   "name": "python",
   "nbconvert_exporter": "python",
   "pygments_lexer": "ipython2",
   "version": "2.7.6"
  }
 },
 "nbformat": 4,
 "nbformat_minor": 5
}
